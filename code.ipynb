{
 "cells": [
  {
   "cell_type": "markdown",
   "id": "5f3734f0-64f7-45b4-8ccb-a4e1b7972055",
   "metadata": {
    "jp-MarkdownHeadingCollapsed": true
   },
   "source": [
    "# TAXI DATA ANALYSIS AND TRIP DURATION PREDICTION\n",
    "IN THIS NOTEBOOK I HAVE USED DATA OF YELLOW TAXI TRIP RECORD OF 2016 JANUARY COLLECTED BY *TLC Trip Record Data* .These are collected and provided to the NYC Taxi(TLC) by technology providers authorized under the Taxicab & Livery Passenger Enhancement Programs.\n",
    "> **Data set provider** : [nyc.gov](https://www.nyc.gov/site/tlc/about/tlc-trip-record-data.page).\n",
    "\n",
    ">Data type : parquet\n",
    "## [Data Dictionary for yellow taxi trip records](https://www.nyc.gov/assets/tlc/downloads/pdf/data_dictionary_trip_records_yellow.pdf)\n",
    "- **VendorID** :  A code indicating the provider that provided the record. 1= Creative Mobile Technologies,LLC. 2= VeriFone Inc.\n",
    "  \n",
    "- **tpep_pickup_datetime** : The date and time when the meter was started recording the trip.\n",
    "  \n",
    "- **tpep_dropoff_datetime** : The date and time when the meter was ended recording the trip.\n",
    "  \n",
    "- **passenger_count** : The number of passengers in the vehicle reported by the taxi drivers.\n",
    "  \n",
    "- **trip_distance** : The elapsed trip distance in miles reported by the taximeter in miles.\n",
    "  \n",
    "- **RatecodeID** : The final rate code in effect at the end of the trip. 1= Standard rate,2=JFK,3=Newark,4=Nassau or Westchester, 5=Negotiated fare, 6=Group ride.\n",
    "  \n",
    "- **store_and_fwd_flag** : Provideds a flag that is it stored in the taxi memmory before sending the proivded due to any issues.Y= stored in the system then send to provider. N = not stored in the taxi memmory\n",
    "  \n",
    "- **PULocationID** : Pickup location id.There is 256 locations and the dictionary for these locations are available on the mentioned web site.\n",
    "  \n",
    "- **DOLocationID** : Dropoff location id.There is 256 locations and the dictionary for these locations are available on the mentioned web site.\n",
    "  \n",
    "- **payment_type** : A numeric values which representing the payment method.1= Credit card, 2= Cash, 3= No charge, 4=Dispute, 5= Unknown, 6= Voided trip.\n",
    "  \n",
    "- **fare_amount** : The time and distance fare calculated by the meter.\n",
    "  \n",
    "- **extra** : Miscellaneous extras and surcharges. Currently, this only includes the 0.5 and $1 rush hour and overnight charges. \n",
    "\n",
    "- **mta_tax** : a $0.50 automatically added based on the metered rate\n",
    "  \n",
    "- **tip_amount** : Automatically added when a credit card payment occured.\n",
    "  \n",
    "- **tolls_amount** : Total amount of tolls paid during the trip.\n",
    "  \n",
    "- **improvement_surcharge** : A $0.30 assesed trips at the flag drop.\n",
    "  \n",
    "- **total_amount** : Total amount charged to the passenger.\n",
    "  \n",
    "- **congestion_surcharge** : Total amount that is collected in trip for NYS congestion surcharge.\n",
    "  \n",
    "- **airport_fee** : $1.25 pickup charge only at LaGuardia and John F.Kennedy Airports."
   ]
  },
  {
   "cell_type": "markdown",
   "id": "ca9e99a1-9139-4e90-8636-882356c5a4cc",
   "metadata": {},
   "source": [
    "# Table of contents\n",
    "**Research question**\n",
    "- Import libraries.\n",
    "- Read data files.\n",
    "- Data Exploration and dealing with duplicate and null values\n",
    "- Feature Transformation and Extraction\n",
    "  \n",
    "**Univariate Analysis**\n",
    "\n",
    "*Analysing each features individually*\n",
    "- Vendors\n",
    "- Passengers on ride\n",
    "- Distance of the ride\n",
    "- Ratecode id\n",
    "- Store and forward flag\n",
    "- Payment type\n",
    "- Total amount\n",
    "- Trip duration\n",
    "- Trips per hour\n",
    "- Trips per weekday\n",
    "\n",
    "**Bivariate Analysis**\n",
    "\n",
    "*Analyising two defferent freatures and ploting insights*\n",
    "- Trip duration per hour,weekday\n",
    "- Trip Distance vs Trip duration\n",
    "\n",
    "**Feature selection**\n",
    "\n",
    "**Correlation Analysis**\n",
    "\n",
    "**ML Model**\n",
    "\n",
    "**Validation of the Model**"
   ]
  },
  {
   "cell_type": "markdown",
   "id": "f3186aee-f7c4-4d6f-b7bf-1c32f80fc113",
   "metadata": {
    "jp-MarkdownHeadingCollapsed": true
   },
   "source": [
    "# Research question\n",
    "***\n",
    "**Analyising the nyc trip dataset to develop a mechine learing model to predict trip duration**"
   ]
  },
  {
   "cell_type": "markdown",
   "id": "f21d1a43-85a7-4583-b2d4-8edcb6b1248d",
   "metadata": {},
   "source": [
    "# Import libraries"
   ]
  },
  {
   "cell_type": "code",
   "execution_count": 1,
   "id": "b17ecd99",
   "metadata": {},
   "outputs": [],
   "source": [
    "import pandas as pd\n",
    "import numpy as np\n",
    "import seaborn as sns\n",
    "import matplotlib as plt\n",
    "import pyarrow.parquet as pq\n",
    "import matplotlib.pyplot as plt\n",
    "\n",
    "from matplotlib.ticker import ScalarFormatter #for x axis scalar formation\n",
    "from sklearn.model_selection import train_test_split #for spliting data for model\n",
    "from sklearn.linear_model import LinearRegression # for linear regression\n",
    "from sklearn import metrics # for evaluating the model\n",
    "from sklearn.ensemble import RandomForestRegressor #for Random forest \n",
    "from xgboost import XGBRegressor # for xgboost model\n",
    "\n",
    "from sklearn.metrics import mean_squared_error, mean_squared_log_error, r2_score # for model evaluation\n"
   ]
  },
  {
   "cell_type": "markdown",
   "id": "6422aa3d-f59b-4bda-acf6-bf476a6d3b37",
   "metadata": {},
   "source": [
    "# Read data file"
   ]
  },
  {
   "cell_type": "code",
   "execution_count": 2,
   "id": "1fcfa36a",
   "metadata": {
    "scrolled": true
   },
   "outputs": [
    {
     "name": "stdout",
     "output_type": "stream",
     "text": [
      "          VendorID tpep_pickup_datetime tpep_dropoff_datetime  \\\n",
      "0                1  2016-01-01 00:12:22   2016-01-01 00:29:14   \n",
      "1                1  2016-01-01 00:41:31   2016-01-01 00:55:10   \n",
      "2                1  2016-01-01 00:53:37   2016-01-01 00:59:57   \n",
      "3                1  2016-01-01 00:13:28   2016-01-01 00:18:07   \n",
      "4                1  2016-01-01 00:33:04   2016-01-01 00:47:14   \n",
      "...            ...                  ...                   ...   \n",
      "10905062         1  2016-01-31 23:42:59   2016-01-31 23:51:01   \n",
      "10905063         1  2016-01-31 23:13:07   2016-01-31 23:27:20   \n",
      "10905064         2  2016-01-31 23:39:18   2016-01-31 23:54:14   \n",
      "10905065         2  2016-01-31 23:03:58   2016-01-31 23:07:26   \n",
      "10905066         2  2016-01-31 23:10:54   2016-01-31 23:15:58   \n",
      "\n",
      "          passenger_count  trip_distance  RatecodeID store_and_fwd_flag  \\\n",
      "0                       1           3.20           1                  N   \n",
      "1                       2           1.00           1                  N   \n",
      "2                       1           0.90           1                  N   \n",
      "3                       1           0.80           1                  N   \n",
      "4                       1           1.80           1                  N   \n",
      "...                   ...            ...         ...                ...   \n",
      "10905062                1           1.50           1                  N   \n",
      "10905063                1           2.60           1                  N   \n",
      "10905064                5           5.63           1                  N   \n",
      "10905065                2           0.77           1                  N   \n",
      "10905066                2           1.26           1                  N   \n",
      "\n",
      "          PULocationID  DOLocationID  payment_type  fare_amount  extra  \\\n",
      "0                   48           262             1         14.0    0.5   \n",
      "1                  162            48             2          9.5    0.5   \n",
      "2                  246            90             2          6.0    0.5   \n",
      "3                  170           162             2          5.0    0.5   \n",
      "4                  161           140             2         11.0    0.5   \n",
      "...                ...           ...           ...          ...    ...   \n",
      "10905062            41            42             1          7.5    0.5   \n",
      "10905063           140           239             1         12.0    0.5   \n",
      "10905064            74           212             2         18.5    0.5   \n",
      "10905065            79           107             2          5.0    0.5   \n",
      "10905066           234           162             1          6.5    0.5   \n",
      "\n",
      "          mta_tax  tip_amount  tolls_amount  improvement_surcharge  \\\n",
      "0             0.5        3.06           0.0                    0.3   \n",
      "1             0.5        0.00           0.0                    0.3   \n",
      "2             0.5        0.00           0.0                    0.3   \n",
      "3             0.5        0.00           0.0                    0.3   \n",
      "4             0.5        0.00           0.0                    0.3   \n",
      "...           ...         ...           ...                    ...   \n",
      "10905062      0.5        2.20           0.0                    0.3   \n",
      "10905063      0.5        3.30           0.0                    0.3   \n",
      "10905064      0.5        0.00           0.0                    0.3   \n",
      "10905065      0.5        0.00           0.0                    0.3   \n",
      "10905066      0.5        1.56           0.0                    0.3   \n",
      "\n",
      "          total_amount congestion_surcharge airport_fee  \n",
      "0                18.36                 None        None  \n",
      "1                10.80                 None        None  \n",
      "2                 7.30                 None        None  \n",
      "3                 6.30                 None        None  \n",
      "4                12.30                 None        None  \n",
      "...                ...                  ...         ...  \n",
      "10905062         11.00                 None        None  \n",
      "10905063         16.60                 None        None  \n",
      "10905064         19.80                 None        None  \n",
      "10905065          6.30                 None        None  \n",
      "10905066          9.36                 None        None  \n",
      "\n",
      "[10905067 rows x 19 columns]\n"
     ]
    }
   ],
   "source": [
    "\n",
    "file_path = ['../data/yellow_tripdata_2016-01.parquet']\n",
    "\n",
    "dfs = []\n",
    "\n",
    "\n",
    "for file_path in file_path:\n",
    "    table = pq.read_table(file_path)\n",
    "    df = table.to_pandas()\n",
    "    dfs.append(df)\n",
    "\n",
    "\n",
    "data_jan = pd.concat(dfs, ignore_index=True)\n",
    "\n",
    "\n",
    "print(data_jan)\n"
   ]
  },
  {
   "cell_type": "code",
   "execution_count": 3,
   "id": "4d2b3c16",
   "metadata": {},
   "outputs": [
    {
     "data": {
      "text/html": [
       "<div>\n",
       "<style scoped>\n",
       "    .dataframe tbody tr th:only-of-type {\n",
       "        vertical-align: middle;\n",
       "    }\n",
       "\n",
       "    .dataframe tbody tr th {\n",
       "        vertical-align: top;\n",
       "    }\n",
       "\n",
       "    .dataframe thead th {\n",
       "        text-align: right;\n",
       "    }\n",
       "</style>\n",
       "<table border=\"1\" class=\"dataframe\">\n",
       "  <thead>\n",
       "    <tr style=\"text-align: right;\">\n",
       "      <th></th>\n",
       "      <th>VendorID</th>\n",
       "      <th>tpep_pickup_datetime</th>\n",
       "      <th>tpep_dropoff_datetime</th>\n",
       "      <th>passenger_count</th>\n",
       "      <th>trip_distance</th>\n",
       "      <th>RatecodeID</th>\n",
       "      <th>store_and_fwd_flag</th>\n",
       "      <th>PULocationID</th>\n",
       "      <th>DOLocationID</th>\n",
       "      <th>payment_type</th>\n",
       "      <th>fare_amount</th>\n",
       "      <th>extra</th>\n",
       "      <th>mta_tax</th>\n",
       "      <th>tip_amount</th>\n",
       "      <th>tolls_amount</th>\n",
       "      <th>improvement_surcharge</th>\n",
       "      <th>total_amount</th>\n",
       "      <th>congestion_surcharge</th>\n",
       "      <th>airport_fee</th>\n",
       "    </tr>\n",
       "  </thead>\n",
       "  <tbody>\n",
       "    <tr>\n",
       "      <th>0</th>\n",
       "      <td>1</td>\n",
       "      <td>2016-01-01 00:12:22</td>\n",
       "      <td>2016-01-01 00:29:14</td>\n",
       "      <td>1</td>\n",
       "      <td>3.2</td>\n",
       "      <td>1</td>\n",
       "      <td>N</td>\n",
       "      <td>48</td>\n",
       "      <td>262</td>\n",
       "      <td>1</td>\n",
       "      <td>14.0</td>\n",
       "      <td>0.5</td>\n",
       "      <td>0.5</td>\n",
       "      <td>3.06</td>\n",
       "      <td>0.0</td>\n",
       "      <td>0.3</td>\n",
       "      <td>18.36</td>\n",
       "      <td>None</td>\n",
       "      <td>None</td>\n",
       "    </tr>\n",
       "    <tr>\n",
       "      <th>1</th>\n",
       "      <td>1</td>\n",
       "      <td>2016-01-01 00:41:31</td>\n",
       "      <td>2016-01-01 00:55:10</td>\n",
       "      <td>2</td>\n",
       "      <td>1.0</td>\n",
       "      <td>1</td>\n",
       "      <td>N</td>\n",
       "      <td>162</td>\n",
       "      <td>48</td>\n",
       "      <td>2</td>\n",
       "      <td>9.5</td>\n",
       "      <td>0.5</td>\n",
       "      <td>0.5</td>\n",
       "      <td>0.00</td>\n",
       "      <td>0.0</td>\n",
       "      <td>0.3</td>\n",
       "      <td>10.80</td>\n",
       "      <td>None</td>\n",
       "      <td>None</td>\n",
       "    </tr>\n",
       "    <tr>\n",
       "      <th>2</th>\n",
       "      <td>1</td>\n",
       "      <td>2016-01-01 00:53:37</td>\n",
       "      <td>2016-01-01 00:59:57</td>\n",
       "      <td>1</td>\n",
       "      <td>0.9</td>\n",
       "      <td>1</td>\n",
       "      <td>N</td>\n",
       "      <td>246</td>\n",
       "      <td>90</td>\n",
       "      <td>2</td>\n",
       "      <td>6.0</td>\n",
       "      <td>0.5</td>\n",
       "      <td>0.5</td>\n",
       "      <td>0.00</td>\n",
       "      <td>0.0</td>\n",
       "      <td>0.3</td>\n",
       "      <td>7.30</td>\n",
       "      <td>None</td>\n",
       "      <td>None</td>\n",
       "    </tr>\n",
       "    <tr>\n",
       "      <th>3</th>\n",
       "      <td>1</td>\n",
       "      <td>2016-01-01 00:13:28</td>\n",
       "      <td>2016-01-01 00:18:07</td>\n",
       "      <td>1</td>\n",
       "      <td>0.8</td>\n",
       "      <td>1</td>\n",
       "      <td>N</td>\n",
       "      <td>170</td>\n",
       "      <td>162</td>\n",
       "      <td>2</td>\n",
       "      <td>5.0</td>\n",
       "      <td>0.5</td>\n",
       "      <td>0.5</td>\n",
       "      <td>0.00</td>\n",
       "      <td>0.0</td>\n",
       "      <td>0.3</td>\n",
       "      <td>6.30</td>\n",
       "      <td>None</td>\n",
       "      <td>None</td>\n",
       "    </tr>\n",
       "    <tr>\n",
       "      <th>4</th>\n",
       "      <td>1</td>\n",
       "      <td>2016-01-01 00:33:04</td>\n",
       "      <td>2016-01-01 00:47:14</td>\n",
       "      <td>1</td>\n",
       "      <td>1.8</td>\n",
       "      <td>1</td>\n",
       "      <td>N</td>\n",
       "      <td>161</td>\n",
       "      <td>140</td>\n",
       "      <td>2</td>\n",
       "      <td>11.0</td>\n",
       "      <td>0.5</td>\n",
       "      <td>0.5</td>\n",
       "      <td>0.00</td>\n",
       "      <td>0.0</td>\n",
       "      <td>0.3</td>\n",
       "      <td>12.30</td>\n",
       "      <td>None</td>\n",
       "      <td>None</td>\n",
       "    </tr>\n",
       "  </tbody>\n",
       "</table>\n",
       "</div>"
      ],
      "text/plain": [
       "   VendorID tpep_pickup_datetime tpep_dropoff_datetime  passenger_count  \\\n",
       "0         1  2016-01-01 00:12:22   2016-01-01 00:29:14                1   \n",
       "1         1  2016-01-01 00:41:31   2016-01-01 00:55:10                2   \n",
       "2         1  2016-01-01 00:53:37   2016-01-01 00:59:57                1   \n",
       "3         1  2016-01-01 00:13:28   2016-01-01 00:18:07                1   \n",
       "4         1  2016-01-01 00:33:04   2016-01-01 00:47:14                1   \n",
       "\n",
       "   trip_distance  RatecodeID store_and_fwd_flag  PULocationID  DOLocationID  \\\n",
       "0            3.2           1                  N            48           262   \n",
       "1            1.0           1                  N           162            48   \n",
       "2            0.9           1                  N           246            90   \n",
       "3            0.8           1                  N           170           162   \n",
       "4            1.8           1                  N           161           140   \n",
       "\n",
       "   payment_type  fare_amount  extra  mta_tax  tip_amount  tolls_amount  \\\n",
       "0             1         14.0    0.5      0.5        3.06           0.0   \n",
       "1             2          9.5    0.5      0.5        0.00           0.0   \n",
       "2             2          6.0    0.5      0.5        0.00           0.0   \n",
       "3             2          5.0    0.5      0.5        0.00           0.0   \n",
       "4             2         11.0    0.5      0.5        0.00           0.0   \n",
       "\n",
       "   improvement_surcharge  total_amount congestion_surcharge airport_fee  \n",
       "0                    0.3         18.36                 None        None  \n",
       "1                    0.3         10.80                 None        None  \n",
       "2                    0.3          7.30                 None        None  \n",
       "3                    0.3          6.30                 None        None  \n",
       "4                    0.3         12.30                 None        None  "
      ]
     },
     "execution_count": 3,
     "metadata": {},
     "output_type": "execute_result"
    }
   ],
   "source": [
    "data_jan.head()"
   ]
  },
  {
   "cell_type": "code",
   "execution_count": 4,
   "id": "ff605a85",
   "metadata": {},
   "outputs": [
    {
     "data": {
      "text/plain": [
       "(10905067, 19)"
      ]
     },
     "execution_count": 4,
     "metadata": {},
     "output_type": "execute_result"
    }
   ],
   "source": [
    "data_jan.shape"
   ]
  },
  {
   "cell_type": "code",
   "execution_count": 5,
   "id": "55967d43",
   "metadata": {},
   "outputs": [
    {
     "data": {
      "text/html": [
       "<div>\n",
       "<style scoped>\n",
       "    .dataframe tbody tr th:only-of-type {\n",
       "        vertical-align: middle;\n",
       "    }\n",
       "\n",
       "    .dataframe tbody tr th {\n",
       "        vertical-align: top;\n",
       "    }\n",
       "\n",
       "    .dataframe thead th {\n",
       "        text-align: right;\n",
       "    }\n",
       "</style>\n",
       "<table border=\"1\" class=\"dataframe\">\n",
       "  <thead>\n",
       "    <tr style=\"text-align: right;\">\n",
       "      <th></th>\n",
       "      <th>VendorID</th>\n",
       "      <th>tpep_pickup_datetime</th>\n",
       "      <th>tpep_dropoff_datetime</th>\n",
       "      <th>passenger_count</th>\n",
       "      <th>trip_distance</th>\n",
       "      <th>RatecodeID</th>\n",
       "      <th>PULocationID</th>\n",
       "      <th>DOLocationID</th>\n",
       "      <th>payment_type</th>\n",
       "      <th>fare_amount</th>\n",
       "      <th>extra</th>\n",
       "      <th>mta_tax</th>\n",
       "      <th>tip_amount</th>\n",
       "      <th>tolls_amount</th>\n",
       "      <th>improvement_surcharge</th>\n",
       "      <th>total_amount</th>\n",
       "    </tr>\n",
       "  </thead>\n",
       "  <tbody>\n",
       "    <tr>\n",
       "      <th>count</th>\n",
       "      <td>1.090507e+07</td>\n",
       "      <td>10905067</td>\n",
       "      <td>10905067</td>\n",
       "      <td>1.090507e+07</td>\n",
       "      <td>1.090507e+07</td>\n",
       "      <td>1.090507e+07</td>\n",
       "      <td>1.090507e+07</td>\n",
       "      <td>1.090507e+07</td>\n",
       "      <td>1.090507e+07</td>\n",
       "      <td>1.090507e+07</td>\n",
       "      <td>1.090507e+07</td>\n",
       "      <td>1.090507e+07</td>\n",
       "      <td>1.090507e+07</td>\n",
       "      <td>1.090507e+07</td>\n",
       "      <td>1.090507e+07</td>\n",
       "      <td>1.090507e+07</td>\n",
       "    </tr>\n",
       "    <tr>\n",
       "      <th>mean</th>\n",
       "      <td>1.535005e+00</td>\n",
       "      <td>2016-01-16 13:45:41.820948480</td>\n",
       "      <td>2016-01-16 14:00:57.898051584</td>\n",
       "      <td>1.670912e+00</td>\n",
       "      <td>4.497236e+00</td>\n",
       "      <td>1.039289e+00</td>\n",
       "      <td>1.631341e+02</td>\n",
       "      <td>1.607890e+02</td>\n",
       "      <td>1.347478e+00</td>\n",
       "      <td>1.248720e+01</td>\n",
       "      <td>3.131052e-01</td>\n",
       "      <td>4.976896e-01</td>\n",
       "      <td>1.750894e+00</td>\n",
       "      <td>2.933613e-01</td>\n",
       "      <td>2.997352e-01</td>\n",
       "      <td>1.564197e+01</td>\n",
       "    </tr>\n",
       "    <tr>\n",
       "      <th>min</th>\n",
       "      <td>1.000000e+00</td>\n",
       "      <td>2016-01-01 00:00:00</td>\n",
       "      <td>2016-01-01 00:00:00</td>\n",
       "      <td>0.000000e+00</td>\n",
       "      <td>0.000000e+00</td>\n",
       "      <td>1.000000e+00</td>\n",
       "      <td>1.000000e+00</td>\n",
       "      <td>1.000000e+00</td>\n",
       "      <td>1.000000e+00</td>\n",
       "      <td>-9.576000e+02</td>\n",
       "      <td>-4.261000e+01</td>\n",
       "      <td>-5.000000e-01</td>\n",
       "      <td>-2.208000e+02</td>\n",
       "      <td>-1.740000e+01</td>\n",
       "      <td>-3.000000e-01</td>\n",
       "      <td>-9.584000e+02</td>\n",
       "    </tr>\n",
       "    <tr>\n",
       "      <th>25%</th>\n",
       "      <td>1.000000e+00</td>\n",
       "      <td>2016-01-09 00:03:34</td>\n",
       "      <td>2016-01-09 00:17:51</td>\n",
       "      <td>1.000000e+00</td>\n",
       "      <td>1.000000e+00</td>\n",
       "      <td>1.000000e+00</td>\n",
       "      <td>1.140000e+02</td>\n",
       "      <td>1.070000e+02</td>\n",
       "      <td>1.000000e+00</td>\n",
       "      <td>6.500000e+00</td>\n",
       "      <td>0.000000e+00</td>\n",
       "      <td>5.000000e-01</td>\n",
       "      <td>0.000000e+00</td>\n",
       "      <td>0.000000e+00</td>\n",
       "      <td>3.000000e-01</td>\n",
       "      <td>8.300000e+00</td>\n",
       "    </tr>\n",
       "    <tr>\n",
       "      <th>50%</th>\n",
       "      <td>2.000000e+00</td>\n",
       "      <td>2016-01-16 03:54:24</td>\n",
       "      <td>2016-01-16 04:10:38</td>\n",
       "      <td>1.000000e+00</td>\n",
       "      <td>1.680000e+00</td>\n",
       "      <td>1.000000e+00</td>\n",
       "      <td>1.620000e+02</td>\n",
       "      <td>1.620000e+02</td>\n",
       "      <td>1.000000e+00</td>\n",
       "      <td>9.000000e+00</td>\n",
       "      <td>0.000000e+00</td>\n",
       "      <td>5.000000e-01</td>\n",
       "      <td>1.260000e+00</td>\n",
       "      <td>0.000000e+00</td>\n",
       "      <td>3.000000e-01</td>\n",
       "      <td>1.162000e+01</td>\n",
       "    </tr>\n",
       "    <tr>\n",
       "      <th>75%</th>\n",
       "      <td>2.000000e+00</td>\n",
       "      <td>2016-01-23 13:08:56.500000</td>\n",
       "      <td>2016-01-23 13:31:23</td>\n",
       "      <td>2.000000e+00</td>\n",
       "      <td>3.080000e+00</td>\n",
       "      <td>1.000000e+00</td>\n",
       "      <td>2.330000e+02</td>\n",
       "      <td>2.330000e+02</td>\n",
       "      <td>2.000000e+00</td>\n",
       "      <td>1.400000e+01</td>\n",
       "      <td>5.000000e-01</td>\n",
       "      <td>5.000000e-01</td>\n",
       "      <td>2.320000e+00</td>\n",
       "      <td>0.000000e+00</td>\n",
       "      <td>3.000000e-01</td>\n",
       "      <td>1.716000e+01</td>\n",
       "    </tr>\n",
       "    <tr>\n",
       "      <th>max</th>\n",
       "      <td>2.000000e+00</td>\n",
       "      <td>2016-01-31 23:59:59</td>\n",
       "      <td>2016-03-28 12:54:26</td>\n",
       "      <td>9.000000e+00</td>\n",
       "      <td>8.000010e+06</td>\n",
       "      <td>9.900000e+01</td>\n",
       "      <td>2.650000e+02</td>\n",
       "      <td>2.650000e+02</td>\n",
       "      <td>5.000000e+00</td>\n",
       "      <td>1.112709e+05</td>\n",
       "      <td>6.488700e+02</td>\n",
       "      <td>8.970000e+01</td>\n",
       "      <td>9.981400e+02</td>\n",
       "      <td>9.801500e+02</td>\n",
       "      <td>3.000000e-01</td>\n",
       "      <td>1.112716e+05</td>\n",
       "    </tr>\n",
       "    <tr>\n",
       "      <th>std</th>\n",
       "      <td>4.987731e-01</td>\n",
       "      <td>NaN</td>\n",
       "      <td>NaN</td>\n",
       "      <td>1.324953e+00</td>\n",
       "      <td>2.938997e+03</td>\n",
       "      <td>5.135201e-01</td>\n",
       "      <td>6.664417e+01</td>\n",
       "      <td>7.071920e+01</td>\n",
       "      <td>4.910573e-01</td>\n",
       "      <td>3.552996e+01</td>\n",
       "      <td>4.156882e-01</td>\n",
       "      <td>5.036344e-02</td>\n",
       "      <td>2.623646e+00</td>\n",
       "      <td>1.694584e+00</td>\n",
       "      <td>1.218746e-02</td>\n",
       "      <td>3.637961e+01</td>\n",
       "    </tr>\n",
       "  </tbody>\n",
       "</table>\n",
       "</div>"
      ],
      "text/plain": [
       "           VendorID           tpep_pickup_datetime  \\\n",
       "count  1.090507e+07                       10905067   \n",
       "mean   1.535005e+00  2016-01-16 13:45:41.820948480   \n",
       "min    1.000000e+00            2016-01-01 00:00:00   \n",
       "25%    1.000000e+00            2016-01-09 00:03:34   \n",
       "50%    2.000000e+00            2016-01-16 03:54:24   \n",
       "75%    2.000000e+00     2016-01-23 13:08:56.500000   \n",
       "max    2.000000e+00            2016-01-31 23:59:59   \n",
       "std    4.987731e-01                            NaN   \n",
       "\n",
       "               tpep_dropoff_datetime  passenger_count  trip_distance  \\\n",
       "count                       10905067     1.090507e+07   1.090507e+07   \n",
       "mean   2016-01-16 14:00:57.898051584     1.670912e+00   4.497236e+00   \n",
       "min              2016-01-01 00:00:00     0.000000e+00   0.000000e+00   \n",
       "25%              2016-01-09 00:17:51     1.000000e+00   1.000000e+00   \n",
       "50%              2016-01-16 04:10:38     1.000000e+00   1.680000e+00   \n",
       "75%              2016-01-23 13:31:23     2.000000e+00   3.080000e+00   \n",
       "max              2016-03-28 12:54:26     9.000000e+00   8.000010e+06   \n",
       "std                              NaN     1.324953e+00   2.938997e+03   \n",
       "\n",
       "         RatecodeID  PULocationID  DOLocationID  payment_type   fare_amount  \\\n",
       "count  1.090507e+07  1.090507e+07  1.090507e+07  1.090507e+07  1.090507e+07   \n",
       "mean   1.039289e+00  1.631341e+02  1.607890e+02  1.347478e+00  1.248720e+01   \n",
       "min    1.000000e+00  1.000000e+00  1.000000e+00  1.000000e+00 -9.576000e+02   \n",
       "25%    1.000000e+00  1.140000e+02  1.070000e+02  1.000000e+00  6.500000e+00   \n",
       "50%    1.000000e+00  1.620000e+02  1.620000e+02  1.000000e+00  9.000000e+00   \n",
       "75%    1.000000e+00  2.330000e+02  2.330000e+02  2.000000e+00  1.400000e+01   \n",
       "max    9.900000e+01  2.650000e+02  2.650000e+02  5.000000e+00  1.112709e+05   \n",
       "std    5.135201e-01  6.664417e+01  7.071920e+01  4.910573e-01  3.552996e+01   \n",
       "\n",
       "              extra       mta_tax    tip_amount  tolls_amount  \\\n",
       "count  1.090507e+07  1.090507e+07  1.090507e+07  1.090507e+07   \n",
       "mean   3.131052e-01  4.976896e-01  1.750894e+00  2.933613e-01   \n",
       "min   -4.261000e+01 -5.000000e-01 -2.208000e+02 -1.740000e+01   \n",
       "25%    0.000000e+00  5.000000e-01  0.000000e+00  0.000000e+00   \n",
       "50%    0.000000e+00  5.000000e-01  1.260000e+00  0.000000e+00   \n",
       "75%    5.000000e-01  5.000000e-01  2.320000e+00  0.000000e+00   \n",
       "max    6.488700e+02  8.970000e+01  9.981400e+02  9.801500e+02   \n",
       "std    4.156882e-01  5.036344e-02  2.623646e+00  1.694584e+00   \n",
       "\n",
       "       improvement_surcharge  total_amount  \n",
       "count           1.090507e+07  1.090507e+07  \n",
       "mean            2.997352e-01  1.564197e+01  \n",
       "min            -3.000000e-01 -9.584000e+02  \n",
       "25%             3.000000e-01  8.300000e+00  \n",
       "50%             3.000000e-01  1.162000e+01  \n",
       "75%             3.000000e-01  1.716000e+01  \n",
       "max             3.000000e-01  1.112716e+05  \n",
       "std             1.218746e-02  3.637961e+01  "
      ]
     },
     "execution_count": 5,
     "metadata": {},
     "output_type": "execute_result"
    }
   ],
   "source": [
    "data_jan.describe()"
   ]
  },
  {
   "cell_type": "markdown",
   "id": "25433fe6-a1d6-4eb1-9932-94cff6940416",
   "metadata": {},
   "source": [
    "# Data Exploration"
   ]
  },
  {
   "cell_type": "markdown",
   "id": "2c0aed98-e498-44ad-8de4-b8485c7829db",
   "metadata": {},
   "source": [
    "### Handling duplicate rows and missing values"
   ]
  },
  {
   "cell_type": "code",
   "execution_count": 6,
   "id": "07720561-60c2-47af-a964-9b5d8eeb00c0",
   "metadata": {},
   "outputs": [
    {
     "data": {
      "text/plain": [
       "(10905065, 19)"
      ]
     },
     "execution_count": 6,
     "metadata": {},
     "output_type": "execute_result"
    }
   ],
   "source": [
    "data_jan = data_jan.drop_duplicates()\n",
    "data_jan.shape"
   ]
  },
  {
   "cell_type": "code",
   "execution_count": 7,
   "id": "024a9c83",
   "metadata": {},
   "outputs": [
    {
     "data": {
      "text/plain": [
       "VendorID                        0\n",
       "tpep_pickup_datetime            0\n",
       "tpep_dropoff_datetime           0\n",
       "passenger_count                 0\n",
       "trip_distance                   0\n",
       "RatecodeID                      0\n",
       "store_and_fwd_flag              0\n",
       "PULocationID                    0\n",
       "DOLocationID                    0\n",
       "payment_type                    0\n",
       "fare_amount                     0\n",
       "extra                           0\n",
       "mta_tax                         0\n",
       "tip_amount                      0\n",
       "tolls_amount                    0\n",
       "improvement_surcharge           0\n",
       "total_amount                    0\n",
       "congestion_surcharge     10905065\n",
       "airport_fee              10905065\n",
       "dtype: int64"
      ]
     },
     "execution_count": 7,
     "metadata": {},
     "output_type": "execute_result"
    }
   ],
   "source": [
    "data_jan.isnull().sum()"
   ]
  },
  {
   "cell_type": "markdown",
   "id": "593c9817-8a82-4405-8234-5049057c2338",
   "metadata": {},
   "source": [
    "#### Observations:\n",
    "\n",
    "- There is no any data available for congestion_surcharge and airport_fee\n",
    "- There is no null values in any of the other features\n",
    "\n",
    "#### Action:\n",
    "\n",
    "- Drop both Congestion_surcharge and airport_fee features\n"
   ]
  },
  {
   "cell_type": "code",
   "execution_count": 8,
   "id": "2637d6f8-e54e-419e-a01f-39534e98bad8",
   "metadata": {},
   "outputs": [
    {
     "data": {
      "text/html": [
       "<div>\n",
       "<style scoped>\n",
       "    .dataframe tbody tr th:only-of-type {\n",
       "        vertical-align: middle;\n",
       "    }\n",
       "\n",
       "    .dataframe tbody tr th {\n",
       "        vertical-align: top;\n",
       "    }\n",
       "\n",
       "    .dataframe thead th {\n",
       "        text-align: right;\n",
       "    }\n",
       "</style>\n",
       "<table border=\"1\" class=\"dataframe\">\n",
       "  <thead>\n",
       "    <tr style=\"text-align: right;\">\n",
       "      <th></th>\n",
       "      <th>VendorID</th>\n",
       "      <th>tpep_pickup_datetime</th>\n",
       "      <th>tpep_dropoff_datetime</th>\n",
       "      <th>passenger_count</th>\n",
       "      <th>trip_distance</th>\n",
       "      <th>RatecodeID</th>\n",
       "      <th>store_and_fwd_flag</th>\n",
       "      <th>PULocationID</th>\n",
       "      <th>DOLocationID</th>\n",
       "      <th>payment_type</th>\n",
       "      <th>fare_amount</th>\n",
       "      <th>extra</th>\n",
       "      <th>mta_tax</th>\n",
       "      <th>tip_amount</th>\n",
       "      <th>tolls_amount</th>\n",
       "      <th>improvement_surcharge</th>\n",
       "      <th>total_amount</th>\n",
       "    </tr>\n",
       "  </thead>\n",
       "  <tbody>\n",
       "    <tr>\n",
       "      <th>0</th>\n",
       "      <td>1</td>\n",
       "      <td>2016-01-01 00:12:22</td>\n",
       "      <td>2016-01-01 00:29:14</td>\n",
       "      <td>1</td>\n",
       "      <td>3.20</td>\n",
       "      <td>1</td>\n",
       "      <td>N</td>\n",
       "      <td>48</td>\n",
       "      <td>262</td>\n",
       "      <td>1</td>\n",
       "      <td>14.0</td>\n",
       "      <td>0.5</td>\n",
       "      <td>0.5</td>\n",
       "      <td>3.06</td>\n",
       "      <td>0.0</td>\n",
       "      <td>0.3</td>\n",
       "      <td>18.36</td>\n",
       "    </tr>\n",
       "    <tr>\n",
       "      <th>1</th>\n",
       "      <td>1</td>\n",
       "      <td>2016-01-01 00:41:31</td>\n",
       "      <td>2016-01-01 00:55:10</td>\n",
       "      <td>2</td>\n",
       "      <td>1.00</td>\n",
       "      <td>1</td>\n",
       "      <td>N</td>\n",
       "      <td>162</td>\n",
       "      <td>48</td>\n",
       "      <td>2</td>\n",
       "      <td>9.5</td>\n",
       "      <td>0.5</td>\n",
       "      <td>0.5</td>\n",
       "      <td>0.00</td>\n",
       "      <td>0.0</td>\n",
       "      <td>0.3</td>\n",
       "      <td>10.80</td>\n",
       "    </tr>\n",
       "    <tr>\n",
       "      <th>2</th>\n",
       "      <td>1</td>\n",
       "      <td>2016-01-01 00:53:37</td>\n",
       "      <td>2016-01-01 00:59:57</td>\n",
       "      <td>1</td>\n",
       "      <td>0.90</td>\n",
       "      <td>1</td>\n",
       "      <td>N</td>\n",
       "      <td>246</td>\n",
       "      <td>90</td>\n",
       "      <td>2</td>\n",
       "      <td>6.0</td>\n",
       "      <td>0.5</td>\n",
       "      <td>0.5</td>\n",
       "      <td>0.00</td>\n",
       "      <td>0.0</td>\n",
       "      <td>0.3</td>\n",
       "      <td>7.30</td>\n",
       "    </tr>\n",
       "    <tr>\n",
       "      <th>3</th>\n",
       "      <td>1</td>\n",
       "      <td>2016-01-01 00:13:28</td>\n",
       "      <td>2016-01-01 00:18:07</td>\n",
       "      <td>1</td>\n",
       "      <td>0.80</td>\n",
       "      <td>1</td>\n",
       "      <td>N</td>\n",
       "      <td>170</td>\n",
       "      <td>162</td>\n",
       "      <td>2</td>\n",
       "      <td>5.0</td>\n",
       "      <td>0.5</td>\n",
       "      <td>0.5</td>\n",
       "      <td>0.00</td>\n",
       "      <td>0.0</td>\n",
       "      <td>0.3</td>\n",
       "      <td>6.30</td>\n",
       "    </tr>\n",
       "    <tr>\n",
       "      <th>4</th>\n",
       "      <td>1</td>\n",
       "      <td>2016-01-01 00:33:04</td>\n",
       "      <td>2016-01-01 00:47:14</td>\n",
       "      <td>1</td>\n",
       "      <td>1.80</td>\n",
       "      <td>1</td>\n",
       "      <td>N</td>\n",
       "      <td>161</td>\n",
       "      <td>140</td>\n",
       "      <td>2</td>\n",
       "      <td>11.0</td>\n",
       "      <td>0.5</td>\n",
       "      <td>0.5</td>\n",
       "      <td>0.00</td>\n",
       "      <td>0.0</td>\n",
       "      <td>0.3</td>\n",
       "      <td>12.30</td>\n",
       "    </tr>\n",
       "    <tr>\n",
       "      <th>...</th>\n",
       "      <td>...</td>\n",
       "      <td>...</td>\n",
       "      <td>...</td>\n",
       "      <td>...</td>\n",
       "      <td>...</td>\n",
       "      <td>...</td>\n",
       "      <td>...</td>\n",
       "      <td>...</td>\n",
       "      <td>...</td>\n",
       "      <td>...</td>\n",
       "      <td>...</td>\n",
       "      <td>...</td>\n",
       "      <td>...</td>\n",
       "      <td>...</td>\n",
       "      <td>...</td>\n",
       "      <td>...</td>\n",
       "      <td>...</td>\n",
       "    </tr>\n",
       "    <tr>\n",
       "      <th>10905062</th>\n",
       "      <td>1</td>\n",
       "      <td>2016-01-31 23:42:59</td>\n",
       "      <td>2016-01-31 23:51:01</td>\n",
       "      <td>1</td>\n",
       "      <td>1.50</td>\n",
       "      <td>1</td>\n",
       "      <td>N</td>\n",
       "      <td>41</td>\n",
       "      <td>42</td>\n",
       "      <td>1</td>\n",
       "      <td>7.5</td>\n",
       "      <td>0.5</td>\n",
       "      <td>0.5</td>\n",
       "      <td>2.20</td>\n",
       "      <td>0.0</td>\n",
       "      <td>0.3</td>\n",
       "      <td>11.00</td>\n",
       "    </tr>\n",
       "    <tr>\n",
       "      <th>10905063</th>\n",
       "      <td>1</td>\n",
       "      <td>2016-01-31 23:13:07</td>\n",
       "      <td>2016-01-31 23:27:20</td>\n",
       "      <td>1</td>\n",
       "      <td>2.60</td>\n",
       "      <td>1</td>\n",
       "      <td>N</td>\n",
       "      <td>140</td>\n",
       "      <td>239</td>\n",
       "      <td>1</td>\n",
       "      <td>12.0</td>\n",
       "      <td>0.5</td>\n",
       "      <td>0.5</td>\n",
       "      <td>3.30</td>\n",
       "      <td>0.0</td>\n",
       "      <td>0.3</td>\n",
       "      <td>16.60</td>\n",
       "    </tr>\n",
       "    <tr>\n",
       "      <th>10905064</th>\n",
       "      <td>2</td>\n",
       "      <td>2016-01-31 23:39:18</td>\n",
       "      <td>2016-01-31 23:54:14</td>\n",
       "      <td>5</td>\n",
       "      <td>5.63</td>\n",
       "      <td>1</td>\n",
       "      <td>N</td>\n",
       "      <td>74</td>\n",
       "      <td>212</td>\n",
       "      <td>2</td>\n",
       "      <td>18.5</td>\n",
       "      <td>0.5</td>\n",
       "      <td>0.5</td>\n",
       "      <td>0.00</td>\n",
       "      <td>0.0</td>\n",
       "      <td>0.3</td>\n",
       "      <td>19.80</td>\n",
       "    </tr>\n",
       "    <tr>\n",
       "      <th>10905065</th>\n",
       "      <td>2</td>\n",
       "      <td>2016-01-31 23:03:58</td>\n",
       "      <td>2016-01-31 23:07:26</td>\n",
       "      <td>2</td>\n",
       "      <td>0.77</td>\n",
       "      <td>1</td>\n",
       "      <td>N</td>\n",
       "      <td>79</td>\n",
       "      <td>107</td>\n",
       "      <td>2</td>\n",
       "      <td>5.0</td>\n",
       "      <td>0.5</td>\n",
       "      <td>0.5</td>\n",
       "      <td>0.00</td>\n",
       "      <td>0.0</td>\n",
       "      <td>0.3</td>\n",
       "      <td>6.30</td>\n",
       "    </tr>\n",
       "    <tr>\n",
       "      <th>10905066</th>\n",
       "      <td>2</td>\n",
       "      <td>2016-01-31 23:10:54</td>\n",
       "      <td>2016-01-31 23:15:58</td>\n",
       "      <td>2</td>\n",
       "      <td>1.26</td>\n",
       "      <td>1</td>\n",
       "      <td>N</td>\n",
       "      <td>234</td>\n",
       "      <td>162</td>\n",
       "      <td>1</td>\n",
       "      <td>6.5</td>\n",
       "      <td>0.5</td>\n",
       "      <td>0.5</td>\n",
       "      <td>1.56</td>\n",
       "      <td>0.0</td>\n",
       "      <td>0.3</td>\n",
       "      <td>9.36</td>\n",
       "    </tr>\n",
       "  </tbody>\n",
       "</table>\n",
       "<p>10905065 rows × 17 columns</p>\n",
       "</div>"
      ],
      "text/plain": [
       "          VendorID tpep_pickup_datetime tpep_dropoff_datetime  \\\n",
       "0                1  2016-01-01 00:12:22   2016-01-01 00:29:14   \n",
       "1                1  2016-01-01 00:41:31   2016-01-01 00:55:10   \n",
       "2                1  2016-01-01 00:53:37   2016-01-01 00:59:57   \n",
       "3                1  2016-01-01 00:13:28   2016-01-01 00:18:07   \n",
       "4                1  2016-01-01 00:33:04   2016-01-01 00:47:14   \n",
       "...            ...                  ...                   ...   \n",
       "10905062         1  2016-01-31 23:42:59   2016-01-31 23:51:01   \n",
       "10905063         1  2016-01-31 23:13:07   2016-01-31 23:27:20   \n",
       "10905064         2  2016-01-31 23:39:18   2016-01-31 23:54:14   \n",
       "10905065         2  2016-01-31 23:03:58   2016-01-31 23:07:26   \n",
       "10905066         2  2016-01-31 23:10:54   2016-01-31 23:15:58   \n",
       "\n",
       "          passenger_count  trip_distance  RatecodeID store_and_fwd_flag  \\\n",
       "0                       1           3.20           1                  N   \n",
       "1                       2           1.00           1                  N   \n",
       "2                       1           0.90           1                  N   \n",
       "3                       1           0.80           1                  N   \n",
       "4                       1           1.80           1                  N   \n",
       "...                   ...            ...         ...                ...   \n",
       "10905062                1           1.50           1                  N   \n",
       "10905063                1           2.60           1                  N   \n",
       "10905064                5           5.63           1                  N   \n",
       "10905065                2           0.77           1                  N   \n",
       "10905066                2           1.26           1                  N   \n",
       "\n",
       "          PULocationID  DOLocationID  payment_type  fare_amount  extra  \\\n",
       "0                   48           262             1         14.0    0.5   \n",
       "1                  162            48             2          9.5    0.5   \n",
       "2                  246            90             2          6.0    0.5   \n",
       "3                  170           162             2          5.0    0.5   \n",
       "4                  161           140             2         11.0    0.5   \n",
       "...                ...           ...           ...          ...    ...   \n",
       "10905062            41            42             1          7.5    0.5   \n",
       "10905063           140           239             1         12.0    0.5   \n",
       "10905064            74           212             2         18.5    0.5   \n",
       "10905065            79           107             2          5.0    0.5   \n",
       "10905066           234           162             1          6.5    0.5   \n",
       "\n",
       "          mta_tax  tip_amount  tolls_amount  improvement_surcharge  \\\n",
       "0             0.5        3.06           0.0                    0.3   \n",
       "1             0.5        0.00           0.0                    0.3   \n",
       "2             0.5        0.00           0.0                    0.3   \n",
       "3             0.5        0.00           0.0                    0.3   \n",
       "4             0.5        0.00           0.0                    0.3   \n",
       "...           ...         ...           ...                    ...   \n",
       "10905062      0.5        2.20           0.0                    0.3   \n",
       "10905063      0.5        3.30           0.0                    0.3   \n",
       "10905064      0.5        0.00           0.0                    0.3   \n",
       "10905065      0.5        0.00           0.0                    0.3   \n",
       "10905066      0.5        1.56           0.0                    0.3   \n",
       "\n",
       "          total_amount  \n",
       "0                18.36  \n",
       "1                10.80  \n",
       "2                 7.30  \n",
       "3                 6.30  \n",
       "4                12.30  \n",
       "...                ...  \n",
       "10905062         11.00  \n",
       "10905063         16.60  \n",
       "10905064         19.80  \n",
       "10905065          6.30  \n",
       "10905066          9.36  \n",
       "\n",
       "[10905065 rows x 17 columns]"
      ]
     },
     "execution_count": 8,
     "metadata": {},
     "output_type": "execute_result"
    }
   ],
   "source": [
    "#droping both columns from the data set\n",
    "data_jan = data_jan.drop(columns=[\"congestion_surcharge\",\"airport_fee\"])\n",
    "data_jan"
   ]
  },
  {
   "cell_type": "markdown",
   "id": "86ca36cb-3f51-45d6-bfae-f244d46dad66",
   "metadata": {},
   "source": [
    "### Feature transformation\n",
    "***\n",
    "- Transforming pickup and dropoff features to datetime formate for feature extration"
   ]
  },
  {
   "cell_type": "code",
   "execution_count": 9,
   "id": "0b058c50",
   "metadata": {},
   "outputs": [
    {
     "data": {
      "text/html": [
       "<div>\n",
       "<style scoped>\n",
       "    .dataframe tbody tr th:only-of-type {\n",
       "        vertical-align: middle;\n",
       "    }\n",
       "\n",
       "    .dataframe tbody tr th {\n",
       "        vertical-align: top;\n",
       "    }\n",
       "\n",
       "    .dataframe thead th {\n",
       "        text-align: right;\n",
       "    }\n",
       "</style>\n",
       "<table border=\"1\" class=\"dataframe\">\n",
       "  <thead>\n",
       "    <tr style=\"text-align: right;\">\n",
       "      <th></th>\n",
       "      <th>VendorID</th>\n",
       "      <th>tpep_pickup_datetime</th>\n",
       "      <th>tpep_dropoff_datetime</th>\n",
       "      <th>passenger_count</th>\n",
       "      <th>trip_distance</th>\n",
       "      <th>RatecodeID</th>\n",
       "      <th>store_and_fwd_flag</th>\n",
       "      <th>PULocationID</th>\n",
       "      <th>DOLocationID</th>\n",
       "      <th>payment_type</th>\n",
       "      <th>fare_amount</th>\n",
       "      <th>extra</th>\n",
       "      <th>mta_tax</th>\n",
       "      <th>tip_amount</th>\n",
       "      <th>tolls_amount</th>\n",
       "      <th>improvement_surcharge</th>\n",
       "      <th>total_amount</th>\n",
       "    </tr>\n",
       "  </thead>\n",
       "  <tbody>\n",
       "    <tr>\n",
       "      <th>0</th>\n",
       "      <td>1</td>\n",
       "      <td>2016-01-01 00:12:22</td>\n",
       "      <td>2016-01-01 00:29:14</td>\n",
       "      <td>1</td>\n",
       "      <td>3.20</td>\n",
       "      <td>1</td>\n",
       "      <td>N</td>\n",
       "      <td>48</td>\n",
       "      <td>262</td>\n",
       "      <td>1</td>\n",
       "      <td>14.0</td>\n",
       "      <td>0.5</td>\n",
       "      <td>0.5</td>\n",
       "      <td>3.06</td>\n",
       "      <td>0.0</td>\n",
       "      <td>0.3</td>\n",
       "      <td>18.36</td>\n",
       "    </tr>\n",
       "    <tr>\n",
       "      <th>1</th>\n",
       "      <td>1</td>\n",
       "      <td>2016-01-01 00:41:31</td>\n",
       "      <td>2016-01-01 00:55:10</td>\n",
       "      <td>2</td>\n",
       "      <td>1.00</td>\n",
       "      <td>1</td>\n",
       "      <td>N</td>\n",
       "      <td>162</td>\n",
       "      <td>48</td>\n",
       "      <td>2</td>\n",
       "      <td>9.5</td>\n",
       "      <td>0.5</td>\n",
       "      <td>0.5</td>\n",
       "      <td>0.00</td>\n",
       "      <td>0.0</td>\n",
       "      <td>0.3</td>\n",
       "      <td>10.80</td>\n",
       "    </tr>\n",
       "    <tr>\n",
       "      <th>2</th>\n",
       "      <td>1</td>\n",
       "      <td>2016-01-01 00:53:37</td>\n",
       "      <td>2016-01-01 00:59:57</td>\n",
       "      <td>1</td>\n",
       "      <td>0.90</td>\n",
       "      <td>1</td>\n",
       "      <td>N</td>\n",
       "      <td>246</td>\n",
       "      <td>90</td>\n",
       "      <td>2</td>\n",
       "      <td>6.0</td>\n",
       "      <td>0.5</td>\n",
       "      <td>0.5</td>\n",
       "      <td>0.00</td>\n",
       "      <td>0.0</td>\n",
       "      <td>0.3</td>\n",
       "      <td>7.30</td>\n",
       "    </tr>\n",
       "    <tr>\n",
       "      <th>3</th>\n",
       "      <td>1</td>\n",
       "      <td>2016-01-01 00:13:28</td>\n",
       "      <td>2016-01-01 00:18:07</td>\n",
       "      <td>1</td>\n",
       "      <td>0.80</td>\n",
       "      <td>1</td>\n",
       "      <td>N</td>\n",
       "      <td>170</td>\n",
       "      <td>162</td>\n",
       "      <td>2</td>\n",
       "      <td>5.0</td>\n",
       "      <td>0.5</td>\n",
       "      <td>0.5</td>\n",
       "      <td>0.00</td>\n",
       "      <td>0.0</td>\n",
       "      <td>0.3</td>\n",
       "      <td>6.30</td>\n",
       "    </tr>\n",
       "    <tr>\n",
       "      <th>4</th>\n",
       "      <td>1</td>\n",
       "      <td>2016-01-01 00:33:04</td>\n",
       "      <td>2016-01-01 00:47:14</td>\n",
       "      <td>1</td>\n",
       "      <td>1.80</td>\n",
       "      <td>1</td>\n",
       "      <td>N</td>\n",
       "      <td>161</td>\n",
       "      <td>140</td>\n",
       "      <td>2</td>\n",
       "      <td>11.0</td>\n",
       "      <td>0.5</td>\n",
       "      <td>0.5</td>\n",
       "      <td>0.00</td>\n",
       "      <td>0.0</td>\n",
       "      <td>0.3</td>\n",
       "      <td>12.30</td>\n",
       "    </tr>\n",
       "    <tr>\n",
       "      <th>...</th>\n",
       "      <td>...</td>\n",
       "      <td>...</td>\n",
       "      <td>...</td>\n",
       "      <td>...</td>\n",
       "      <td>...</td>\n",
       "      <td>...</td>\n",
       "      <td>...</td>\n",
       "      <td>...</td>\n",
       "      <td>...</td>\n",
       "      <td>...</td>\n",
       "      <td>...</td>\n",
       "      <td>...</td>\n",
       "      <td>...</td>\n",
       "      <td>...</td>\n",
       "      <td>...</td>\n",
       "      <td>...</td>\n",
       "      <td>...</td>\n",
       "    </tr>\n",
       "    <tr>\n",
       "      <th>10905062</th>\n",
       "      <td>1</td>\n",
       "      <td>2016-01-31 23:42:59</td>\n",
       "      <td>2016-01-31 23:51:01</td>\n",
       "      <td>1</td>\n",
       "      <td>1.50</td>\n",
       "      <td>1</td>\n",
       "      <td>N</td>\n",
       "      <td>41</td>\n",
       "      <td>42</td>\n",
       "      <td>1</td>\n",
       "      <td>7.5</td>\n",
       "      <td>0.5</td>\n",
       "      <td>0.5</td>\n",
       "      <td>2.20</td>\n",
       "      <td>0.0</td>\n",
       "      <td>0.3</td>\n",
       "      <td>11.00</td>\n",
       "    </tr>\n",
       "    <tr>\n",
       "      <th>10905063</th>\n",
       "      <td>1</td>\n",
       "      <td>2016-01-31 23:13:07</td>\n",
       "      <td>2016-01-31 23:27:20</td>\n",
       "      <td>1</td>\n",
       "      <td>2.60</td>\n",
       "      <td>1</td>\n",
       "      <td>N</td>\n",
       "      <td>140</td>\n",
       "      <td>239</td>\n",
       "      <td>1</td>\n",
       "      <td>12.0</td>\n",
       "      <td>0.5</td>\n",
       "      <td>0.5</td>\n",
       "      <td>3.30</td>\n",
       "      <td>0.0</td>\n",
       "      <td>0.3</td>\n",
       "      <td>16.60</td>\n",
       "    </tr>\n",
       "    <tr>\n",
       "      <th>10905064</th>\n",
       "      <td>2</td>\n",
       "      <td>2016-01-31 23:39:18</td>\n",
       "      <td>2016-01-31 23:54:14</td>\n",
       "      <td>5</td>\n",
       "      <td>5.63</td>\n",
       "      <td>1</td>\n",
       "      <td>N</td>\n",
       "      <td>74</td>\n",
       "      <td>212</td>\n",
       "      <td>2</td>\n",
       "      <td>18.5</td>\n",
       "      <td>0.5</td>\n",
       "      <td>0.5</td>\n",
       "      <td>0.00</td>\n",
       "      <td>0.0</td>\n",
       "      <td>0.3</td>\n",
       "      <td>19.80</td>\n",
       "    </tr>\n",
       "    <tr>\n",
       "      <th>10905065</th>\n",
       "      <td>2</td>\n",
       "      <td>2016-01-31 23:03:58</td>\n",
       "      <td>2016-01-31 23:07:26</td>\n",
       "      <td>2</td>\n",
       "      <td>0.77</td>\n",
       "      <td>1</td>\n",
       "      <td>N</td>\n",
       "      <td>79</td>\n",
       "      <td>107</td>\n",
       "      <td>2</td>\n",
       "      <td>5.0</td>\n",
       "      <td>0.5</td>\n",
       "      <td>0.5</td>\n",
       "      <td>0.00</td>\n",
       "      <td>0.0</td>\n",
       "      <td>0.3</td>\n",
       "      <td>6.30</td>\n",
       "    </tr>\n",
       "    <tr>\n",
       "      <th>10905066</th>\n",
       "      <td>2</td>\n",
       "      <td>2016-01-31 23:10:54</td>\n",
       "      <td>2016-01-31 23:15:58</td>\n",
       "      <td>2</td>\n",
       "      <td>1.26</td>\n",
       "      <td>1</td>\n",
       "      <td>N</td>\n",
       "      <td>234</td>\n",
       "      <td>162</td>\n",
       "      <td>1</td>\n",
       "      <td>6.5</td>\n",
       "      <td>0.5</td>\n",
       "      <td>0.5</td>\n",
       "      <td>1.56</td>\n",
       "      <td>0.0</td>\n",
       "      <td>0.3</td>\n",
       "      <td>9.36</td>\n",
       "    </tr>\n",
       "  </tbody>\n",
       "</table>\n",
       "<p>10905065 rows × 17 columns</p>\n",
       "</div>"
      ],
      "text/plain": [
       "          VendorID tpep_pickup_datetime tpep_dropoff_datetime  \\\n",
       "0                1  2016-01-01 00:12:22   2016-01-01 00:29:14   \n",
       "1                1  2016-01-01 00:41:31   2016-01-01 00:55:10   \n",
       "2                1  2016-01-01 00:53:37   2016-01-01 00:59:57   \n",
       "3                1  2016-01-01 00:13:28   2016-01-01 00:18:07   \n",
       "4                1  2016-01-01 00:33:04   2016-01-01 00:47:14   \n",
       "...            ...                  ...                   ...   \n",
       "10905062         1  2016-01-31 23:42:59   2016-01-31 23:51:01   \n",
       "10905063         1  2016-01-31 23:13:07   2016-01-31 23:27:20   \n",
       "10905064         2  2016-01-31 23:39:18   2016-01-31 23:54:14   \n",
       "10905065         2  2016-01-31 23:03:58   2016-01-31 23:07:26   \n",
       "10905066         2  2016-01-31 23:10:54   2016-01-31 23:15:58   \n",
       "\n",
       "          passenger_count  trip_distance  RatecodeID store_and_fwd_flag  \\\n",
       "0                       1           3.20           1                  N   \n",
       "1                       2           1.00           1                  N   \n",
       "2                       1           0.90           1                  N   \n",
       "3                       1           0.80           1                  N   \n",
       "4                       1           1.80           1                  N   \n",
       "...                   ...            ...         ...                ...   \n",
       "10905062                1           1.50           1                  N   \n",
       "10905063                1           2.60           1                  N   \n",
       "10905064                5           5.63           1                  N   \n",
       "10905065                2           0.77           1                  N   \n",
       "10905066                2           1.26           1                  N   \n",
       "\n",
       "          PULocationID  DOLocationID  payment_type  fare_amount  extra  \\\n",
       "0                   48           262             1         14.0    0.5   \n",
       "1                  162            48             2          9.5    0.5   \n",
       "2                  246            90             2          6.0    0.5   \n",
       "3                  170           162             2          5.0    0.5   \n",
       "4                  161           140             2         11.0    0.5   \n",
       "...                ...           ...           ...          ...    ...   \n",
       "10905062            41            42             1          7.5    0.5   \n",
       "10905063           140           239             1         12.0    0.5   \n",
       "10905064            74           212             2         18.5    0.5   \n",
       "10905065            79           107             2          5.0    0.5   \n",
       "10905066           234           162             1          6.5    0.5   \n",
       "\n",
       "          mta_tax  tip_amount  tolls_amount  improvement_surcharge  \\\n",
       "0             0.5        3.06           0.0                    0.3   \n",
       "1             0.5        0.00           0.0                    0.3   \n",
       "2             0.5        0.00           0.0                    0.3   \n",
       "3             0.5        0.00           0.0                    0.3   \n",
       "4             0.5        0.00           0.0                    0.3   \n",
       "...           ...         ...           ...                    ...   \n",
       "10905062      0.5        2.20           0.0                    0.3   \n",
       "10905063      0.5        3.30           0.0                    0.3   \n",
       "10905064      0.5        0.00           0.0                    0.3   \n",
       "10905065      0.5        0.00           0.0                    0.3   \n",
       "10905066      0.5        1.56           0.0                    0.3   \n",
       "\n",
       "          total_amount  \n",
       "0                18.36  \n",
       "1                10.80  \n",
       "2                 7.30  \n",
       "3                 6.30  \n",
       "4                12.30  \n",
       "...                ...  \n",
       "10905062         11.00  \n",
       "10905063         16.60  \n",
       "10905064         19.80  \n",
       "10905065          6.30  \n",
       "10905066          9.36  \n",
       "\n",
       "[10905065 rows x 17 columns]"
      ]
     },
     "execution_count": 9,
     "metadata": {},
     "output_type": "execute_result"
    }
   ],
   "source": [
    "#here i have used pd.to_datetime funcrion for transformation\n",
    "data_jan['tpep_pickup_datetime'] = pd.to_datetime(data_jan['tpep_pickup_datetime'])\n",
    "data_jan['tpep_dropoff_datetime'] = pd.to_datetime(data_jan['tpep_dropoff_datetime'])\n",
    "data_jan"
   ]
  },
  {
   "cell_type": "code",
   "execution_count": 10,
   "id": "71b1f9ea-5068-4bd9-9a04-568304b61c68",
   "metadata": {},
   "outputs": [],
   "source": [
    "#converting trip distance miles to km\n",
    "miles_to_km_factot = 1.60934\n",
    "\n",
    "# Convert miles to kilometers\n",
    "data_jan[\"trip_distance\"] = (data_jan[\"trip_distance\"] * miles_to_km_factot).round(2)"
   ]
  },
  {
   "cell_type": "markdown",
   "id": "c2a8dc42-b65c-4bbd-8964-c4221923df72",
   "metadata": {},
   "source": [
    "### Feature Extraction\n",
    "***\n",
    "- Extracting pickup hour, weekday, month, day name from the pickup datetime feature\n",
    "- Creating New features for trip duration and average speed of the trip from pickup and dropoff time"
   ]
  },
  {
   "cell_type": "code",
   "execution_count": 11,
   "id": "edc902dc",
   "metadata": {},
   "outputs": [],
   "source": [
    "#creating new features for pickup hour and day of week and weekname from the pickup datetime\n",
    "\n",
    "data_jan['pickup_hour'] = data_jan['tpep_pickup_datetime'].dt.hour\n",
    "data_jan['weekday'] = data_jan['tpep_pickup_datetime'].dt.weekday\n",
    "data_jan['month'] = data_jan['tpep_pickup_datetime'].dt.month\n",
    "data_jan['pickup_day_name'] = data_jan['tpep_pickup_datetime'].dt.strftime('%A')\n",
    "\n"
   ]
  },
  {
   "cell_type": "code",
   "execution_count": 12,
   "id": "d25ae9bd-d324-4127-b2d5-7c778b69a050",
   "metadata": {},
   "outputs": [],
   "source": [
    "#creating new feature for trip duratioin in secound\n",
    "\n",
    "data_jan['trip_duration_sec'] = (data_jan['tpep_dropoff_datetime'] - data_jan['tpep_pickup_datetime']).dt.total_seconds()\n",
    "\n",
    "#creating feature for average speed miles/hour\n",
    "data_jan['avg_speed_kph'] = abs( data_jan['trip_distance'] / data_jan['trip_duration_sec'] *3600 ).round(2)"
   ]
  },
  {
   "cell_type": "code",
   "execution_count": 13,
   "id": "6f18d69b-445a-4bed-b921-a2c0f9ebe187",
   "metadata": {},
   "outputs": [
    {
     "data": {
      "text/plain": [
       "count    10894049.00\n",
       "mean             inf\n",
       "std              NaN\n",
       "min             0.00\n",
       "25%            12.74\n",
       "50%            17.09\n",
       "75%            23.21\n",
       "max              inf\n",
       "Name: avg_speed_kph, dtype: float64"
      ]
     },
     "execution_count": 13,
     "metadata": {},
     "output_type": "execute_result"
    }
   ],
   "source": [
    "data_jan[\"avg_speed_kph\"].describe()"
   ]
  },
  {
   "cell_type": "code",
   "execution_count": 14,
   "id": "73b8d974-85ec-4933-ab7e-e24db43fe864",
   "metadata": {},
   "outputs": [
    {
     "data": {
      "text/html": [
       "<div>\n",
       "<style scoped>\n",
       "    .dataframe tbody tr th:only-of-type {\n",
       "        vertical-align: middle;\n",
       "    }\n",
       "\n",
       "    .dataframe tbody tr th {\n",
       "        vertical-align: top;\n",
       "    }\n",
       "\n",
       "    .dataframe thead th {\n",
       "        text-align: right;\n",
       "    }\n",
       "</style>\n",
       "<table border=\"1\" class=\"dataframe\">\n",
       "  <thead>\n",
       "    <tr style=\"text-align: right;\">\n",
       "      <th></th>\n",
       "      <th>VendorID</th>\n",
       "      <th>tpep_pickup_datetime</th>\n",
       "      <th>tpep_dropoff_datetime</th>\n",
       "      <th>passenger_count</th>\n",
       "      <th>trip_distance</th>\n",
       "      <th>RatecodeID</th>\n",
       "      <th>store_and_fwd_flag</th>\n",
       "      <th>PULocationID</th>\n",
       "      <th>DOLocationID</th>\n",
       "      <th>payment_type</th>\n",
       "      <th>...</th>\n",
       "      <th>tip_amount</th>\n",
       "      <th>tolls_amount</th>\n",
       "      <th>improvement_surcharge</th>\n",
       "      <th>total_amount</th>\n",
       "      <th>pickup_hour</th>\n",
       "      <th>weekday</th>\n",
       "      <th>month</th>\n",
       "      <th>pickup_day_name</th>\n",
       "      <th>trip_duration_sec</th>\n",
       "      <th>avg_speed_kph</th>\n",
       "    </tr>\n",
       "  </thead>\n",
       "  <tbody>\n",
       "    <tr>\n",
       "      <th>0</th>\n",
       "      <td>1</td>\n",
       "      <td>2016-01-01 00:12:22</td>\n",
       "      <td>2016-01-01 00:29:14</td>\n",
       "      <td>1</td>\n",
       "      <td>5.15</td>\n",
       "      <td>1</td>\n",
       "      <td>N</td>\n",
       "      <td>48</td>\n",
       "      <td>262</td>\n",
       "      <td>1</td>\n",
       "      <td>...</td>\n",
       "      <td>3.06</td>\n",
       "      <td>0.0</td>\n",
       "      <td>0.3</td>\n",
       "      <td>18.36</td>\n",
       "      <td>0</td>\n",
       "      <td>4</td>\n",
       "      <td>1</td>\n",
       "      <td>Friday</td>\n",
       "      <td>1012.0</td>\n",
       "      <td>18.32</td>\n",
       "    </tr>\n",
       "    <tr>\n",
       "      <th>1</th>\n",
       "      <td>1</td>\n",
       "      <td>2016-01-01 00:41:31</td>\n",
       "      <td>2016-01-01 00:55:10</td>\n",
       "      <td>2</td>\n",
       "      <td>1.61</td>\n",
       "      <td>1</td>\n",
       "      <td>N</td>\n",
       "      <td>162</td>\n",
       "      <td>48</td>\n",
       "      <td>2</td>\n",
       "      <td>...</td>\n",
       "      <td>0.00</td>\n",
       "      <td>0.0</td>\n",
       "      <td>0.3</td>\n",
       "      <td>10.80</td>\n",
       "      <td>0</td>\n",
       "      <td>4</td>\n",
       "      <td>1</td>\n",
       "      <td>Friday</td>\n",
       "      <td>819.0</td>\n",
       "      <td>7.08</td>\n",
       "    </tr>\n",
       "    <tr>\n",
       "      <th>2</th>\n",
       "      <td>1</td>\n",
       "      <td>2016-01-01 00:53:37</td>\n",
       "      <td>2016-01-01 00:59:57</td>\n",
       "      <td>1</td>\n",
       "      <td>1.45</td>\n",
       "      <td>1</td>\n",
       "      <td>N</td>\n",
       "      <td>246</td>\n",
       "      <td>90</td>\n",
       "      <td>2</td>\n",
       "      <td>...</td>\n",
       "      <td>0.00</td>\n",
       "      <td>0.0</td>\n",
       "      <td>0.3</td>\n",
       "      <td>7.30</td>\n",
       "      <td>0</td>\n",
       "      <td>4</td>\n",
       "      <td>1</td>\n",
       "      <td>Friday</td>\n",
       "      <td>380.0</td>\n",
       "      <td>13.74</td>\n",
       "    </tr>\n",
       "    <tr>\n",
       "      <th>3</th>\n",
       "      <td>1</td>\n",
       "      <td>2016-01-01 00:13:28</td>\n",
       "      <td>2016-01-01 00:18:07</td>\n",
       "      <td>1</td>\n",
       "      <td>1.29</td>\n",
       "      <td>1</td>\n",
       "      <td>N</td>\n",
       "      <td>170</td>\n",
       "      <td>162</td>\n",
       "      <td>2</td>\n",
       "      <td>...</td>\n",
       "      <td>0.00</td>\n",
       "      <td>0.0</td>\n",
       "      <td>0.3</td>\n",
       "      <td>6.30</td>\n",
       "      <td>0</td>\n",
       "      <td>4</td>\n",
       "      <td>1</td>\n",
       "      <td>Friday</td>\n",
       "      <td>279.0</td>\n",
       "      <td>16.65</td>\n",
       "    </tr>\n",
       "    <tr>\n",
       "      <th>4</th>\n",
       "      <td>1</td>\n",
       "      <td>2016-01-01 00:33:04</td>\n",
       "      <td>2016-01-01 00:47:14</td>\n",
       "      <td>1</td>\n",
       "      <td>2.90</td>\n",
       "      <td>1</td>\n",
       "      <td>N</td>\n",
       "      <td>161</td>\n",
       "      <td>140</td>\n",
       "      <td>2</td>\n",
       "      <td>...</td>\n",
       "      <td>0.00</td>\n",
       "      <td>0.0</td>\n",
       "      <td>0.3</td>\n",
       "      <td>12.30</td>\n",
       "      <td>0</td>\n",
       "      <td>4</td>\n",
       "      <td>1</td>\n",
       "      <td>Friday</td>\n",
       "      <td>850.0</td>\n",
       "      <td>12.28</td>\n",
       "    </tr>\n",
       "    <tr>\n",
       "      <th>...</th>\n",
       "      <td>...</td>\n",
       "      <td>...</td>\n",
       "      <td>...</td>\n",
       "      <td>...</td>\n",
       "      <td>...</td>\n",
       "      <td>...</td>\n",
       "      <td>...</td>\n",
       "      <td>...</td>\n",
       "      <td>...</td>\n",
       "      <td>...</td>\n",
       "      <td>...</td>\n",
       "      <td>...</td>\n",
       "      <td>...</td>\n",
       "      <td>...</td>\n",
       "      <td>...</td>\n",
       "      <td>...</td>\n",
       "      <td>...</td>\n",
       "      <td>...</td>\n",
       "      <td>...</td>\n",
       "      <td>...</td>\n",
       "      <td>...</td>\n",
       "    </tr>\n",
       "    <tr>\n",
       "      <th>10905062</th>\n",
       "      <td>1</td>\n",
       "      <td>2016-01-31 23:42:59</td>\n",
       "      <td>2016-01-31 23:51:01</td>\n",
       "      <td>1</td>\n",
       "      <td>2.41</td>\n",
       "      <td>1</td>\n",
       "      <td>N</td>\n",
       "      <td>41</td>\n",
       "      <td>42</td>\n",
       "      <td>1</td>\n",
       "      <td>...</td>\n",
       "      <td>2.20</td>\n",
       "      <td>0.0</td>\n",
       "      <td>0.3</td>\n",
       "      <td>11.00</td>\n",
       "      <td>23</td>\n",
       "      <td>6</td>\n",
       "      <td>1</td>\n",
       "      <td>Sunday</td>\n",
       "      <td>482.0</td>\n",
       "      <td>18.00</td>\n",
       "    </tr>\n",
       "    <tr>\n",
       "      <th>10905063</th>\n",
       "      <td>1</td>\n",
       "      <td>2016-01-31 23:13:07</td>\n",
       "      <td>2016-01-31 23:27:20</td>\n",
       "      <td>1</td>\n",
       "      <td>4.18</td>\n",
       "      <td>1</td>\n",
       "      <td>N</td>\n",
       "      <td>140</td>\n",
       "      <td>239</td>\n",
       "      <td>1</td>\n",
       "      <td>...</td>\n",
       "      <td>3.30</td>\n",
       "      <td>0.0</td>\n",
       "      <td>0.3</td>\n",
       "      <td>16.60</td>\n",
       "      <td>23</td>\n",
       "      <td>6</td>\n",
       "      <td>1</td>\n",
       "      <td>Sunday</td>\n",
       "      <td>853.0</td>\n",
       "      <td>17.64</td>\n",
       "    </tr>\n",
       "    <tr>\n",
       "      <th>10905064</th>\n",
       "      <td>2</td>\n",
       "      <td>2016-01-31 23:39:18</td>\n",
       "      <td>2016-01-31 23:54:14</td>\n",
       "      <td>5</td>\n",
       "      <td>9.06</td>\n",
       "      <td>1</td>\n",
       "      <td>N</td>\n",
       "      <td>74</td>\n",
       "      <td>212</td>\n",
       "      <td>2</td>\n",
       "      <td>...</td>\n",
       "      <td>0.00</td>\n",
       "      <td>0.0</td>\n",
       "      <td>0.3</td>\n",
       "      <td>19.80</td>\n",
       "      <td>23</td>\n",
       "      <td>6</td>\n",
       "      <td>1</td>\n",
       "      <td>Sunday</td>\n",
       "      <td>896.0</td>\n",
       "      <td>36.40</td>\n",
       "    </tr>\n",
       "    <tr>\n",
       "      <th>10905065</th>\n",
       "      <td>2</td>\n",
       "      <td>2016-01-31 23:03:58</td>\n",
       "      <td>2016-01-31 23:07:26</td>\n",
       "      <td>2</td>\n",
       "      <td>1.24</td>\n",
       "      <td>1</td>\n",
       "      <td>N</td>\n",
       "      <td>79</td>\n",
       "      <td>107</td>\n",
       "      <td>2</td>\n",
       "      <td>...</td>\n",
       "      <td>0.00</td>\n",
       "      <td>0.0</td>\n",
       "      <td>0.3</td>\n",
       "      <td>6.30</td>\n",
       "      <td>23</td>\n",
       "      <td>6</td>\n",
       "      <td>1</td>\n",
       "      <td>Sunday</td>\n",
       "      <td>208.0</td>\n",
       "      <td>21.46</td>\n",
       "    </tr>\n",
       "    <tr>\n",
       "      <th>10905066</th>\n",
       "      <td>2</td>\n",
       "      <td>2016-01-31 23:10:54</td>\n",
       "      <td>2016-01-31 23:15:58</td>\n",
       "      <td>2</td>\n",
       "      <td>2.03</td>\n",
       "      <td>1</td>\n",
       "      <td>N</td>\n",
       "      <td>234</td>\n",
       "      <td>162</td>\n",
       "      <td>1</td>\n",
       "      <td>...</td>\n",
       "      <td>1.56</td>\n",
       "      <td>0.0</td>\n",
       "      <td>0.3</td>\n",
       "      <td>9.36</td>\n",
       "      <td>23</td>\n",
       "      <td>6</td>\n",
       "      <td>1</td>\n",
       "      <td>Sunday</td>\n",
       "      <td>304.0</td>\n",
       "      <td>24.04</td>\n",
       "    </tr>\n",
       "  </tbody>\n",
       "</table>\n",
       "<p>10905065 rows × 23 columns</p>\n",
       "</div>"
      ],
      "text/plain": [
       "          VendorID tpep_pickup_datetime tpep_dropoff_datetime  \\\n",
       "0                1  2016-01-01 00:12:22   2016-01-01 00:29:14   \n",
       "1                1  2016-01-01 00:41:31   2016-01-01 00:55:10   \n",
       "2                1  2016-01-01 00:53:37   2016-01-01 00:59:57   \n",
       "3                1  2016-01-01 00:13:28   2016-01-01 00:18:07   \n",
       "4                1  2016-01-01 00:33:04   2016-01-01 00:47:14   \n",
       "...            ...                  ...                   ...   \n",
       "10905062         1  2016-01-31 23:42:59   2016-01-31 23:51:01   \n",
       "10905063         1  2016-01-31 23:13:07   2016-01-31 23:27:20   \n",
       "10905064         2  2016-01-31 23:39:18   2016-01-31 23:54:14   \n",
       "10905065         2  2016-01-31 23:03:58   2016-01-31 23:07:26   \n",
       "10905066         2  2016-01-31 23:10:54   2016-01-31 23:15:58   \n",
       "\n",
       "          passenger_count  trip_distance  RatecodeID store_and_fwd_flag  \\\n",
       "0                       1           5.15           1                  N   \n",
       "1                       2           1.61           1                  N   \n",
       "2                       1           1.45           1                  N   \n",
       "3                       1           1.29           1                  N   \n",
       "4                       1           2.90           1                  N   \n",
       "...                   ...            ...         ...                ...   \n",
       "10905062                1           2.41           1                  N   \n",
       "10905063                1           4.18           1                  N   \n",
       "10905064                5           9.06           1                  N   \n",
       "10905065                2           1.24           1                  N   \n",
       "10905066                2           2.03           1                  N   \n",
       "\n",
       "          PULocationID  DOLocationID  payment_type  ...  tip_amount  \\\n",
       "0                   48           262             1  ...        3.06   \n",
       "1                  162            48             2  ...        0.00   \n",
       "2                  246            90             2  ...        0.00   \n",
       "3                  170           162             2  ...        0.00   \n",
       "4                  161           140             2  ...        0.00   \n",
       "...                ...           ...           ...  ...         ...   \n",
       "10905062            41            42             1  ...        2.20   \n",
       "10905063           140           239             1  ...        3.30   \n",
       "10905064            74           212             2  ...        0.00   \n",
       "10905065            79           107             2  ...        0.00   \n",
       "10905066           234           162             1  ...        1.56   \n",
       "\n",
       "          tolls_amount  improvement_surcharge  total_amount  pickup_hour  \\\n",
       "0                  0.0                    0.3         18.36            0   \n",
       "1                  0.0                    0.3         10.80            0   \n",
       "2                  0.0                    0.3          7.30            0   \n",
       "3                  0.0                    0.3          6.30            0   \n",
       "4                  0.0                    0.3         12.30            0   \n",
       "...                ...                    ...           ...          ...   \n",
       "10905062           0.0                    0.3         11.00           23   \n",
       "10905063           0.0                    0.3         16.60           23   \n",
       "10905064           0.0                    0.3         19.80           23   \n",
       "10905065           0.0                    0.3          6.30           23   \n",
       "10905066           0.0                    0.3          9.36           23   \n",
       "\n",
       "          weekday  month  pickup_day_name  trip_duration_sec  avg_speed_kph  \n",
       "0               4      1           Friday             1012.0          18.32  \n",
       "1               4      1           Friday              819.0           7.08  \n",
       "2               4      1           Friday              380.0          13.74  \n",
       "3               4      1           Friday              279.0          16.65  \n",
       "4               4      1           Friday              850.0          12.28  \n",
       "...           ...    ...              ...                ...            ...  \n",
       "10905062        6      1           Sunday              482.0          18.00  \n",
       "10905063        6      1           Sunday              853.0          17.64  \n",
       "10905064        6      1           Sunday              896.0          36.40  \n",
       "10905065        6      1           Sunday              208.0          21.46  \n",
       "10905066        6      1           Sunday              304.0          24.04  \n",
       "\n",
       "[10905065 rows x 23 columns]"
      ]
     },
     "execution_count": 14,
     "metadata": {},
     "output_type": "execute_result"
    }
   ],
   "source": [
    "data_jan"
   ]
  },
  {
   "cell_type": "code",
   "execution_count": null,
   "id": "9b75e3df-75c3-4951-a556-36afd2e9e0e7",
   "metadata": {},
   "outputs": [],
   "source": []
  },
  {
   "cell_type": "code",
   "execution_count": 15,
   "id": "9c6b8a08-ebd4-4162-b85d-87260a855679",
   "metadata": {},
   "outputs": [
    {
     "name": "stdout",
     "output_type": "stream",
     "text": [
      "<class 'pandas.core.frame.DataFrame'>\n",
      "Index: 10905065 entries, 0 to 10905066\n",
      "Data columns (total 23 columns):\n",
      " #   Column                 Dtype         \n",
      "---  ------                 -----         \n",
      " 0   VendorID               int64         \n",
      " 1   tpep_pickup_datetime   datetime64[ns]\n",
      " 2   tpep_dropoff_datetime  datetime64[ns]\n",
      " 3   passenger_count        int64         \n",
      " 4   trip_distance          float64       \n",
      " 5   RatecodeID             int64         \n",
      " 6   store_and_fwd_flag     object        \n",
      " 7   PULocationID           int64         \n",
      " 8   DOLocationID           int64         \n",
      " 9   payment_type           int64         \n",
      " 10  fare_amount            float64       \n",
      " 11  extra                  float64       \n",
      " 12  mta_tax                float64       \n",
      " 13  tip_amount             float64       \n",
      " 14  tolls_amount           float64       \n",
      " 15  improvement_surcharge  float64       \n",
      " 16  total_amount           float64       \n",
      " 17  pickup_hour            int32         \n",
      " 18  weekday                int32         \n",
      " 19  month                  int32         \n",
      " 20  pickup_day_name        object        \n",
      " 21  trip_duration_sec      float64       \n",
      " 22  avg_speed_kph          float64       \n",
      "dtypes: datetime64[ns](2), float64(10), int32(3), int64(6), object(2)\n",
      "memory usage: 1.8+ GB\n"
     ]
    }
   ],
   "source": [
    "data_jan.info()"
   ]
  },
  {
   "cell_type": "markdown",
   "id": "eceab82a-d470-4447-b470-aa1f1a875d47",
   "metadata": {},
   "source": [
    "# Univariate analysis\n",
    "***\n",
    "- *Analysing each features individually and removing outliers*\n",
    "- Vendors\n",
    "- Passengers on ride\n",
    "- Distance of the ride\n",
    "- Ratecode id\n",
    "- Store and forward flag\n",
    "- Payment type\n",
    "- Total amount\n",
    "- Trip duration\n",
    "- Trips per hour\n",
    "- Trips per weekday"
   ]
  },
  {
   "cell_type": "markdown",
   "id": "c1ebc589-5e64-4a05-b926-ef7334cd9173",
   "metadata": {},
   "source": [
    "### Vendors\n",
    "***\n",
    "Here in this data set there is vendor 1 and 2 we are going to analyse these variables"
   ]
  },
  {
   "cell_type": "code",
   "execution_count": 16,
   "id": "411c11b7-7d60-45d4-a631-998c763e9c3e",
   "metadata": {
    "scrolled": true
   },
   "outputs": [
    {
     "data": {
      "text/plain": [
       "<seaborn.axisgrid.FacetGrid at 0x12fbfdf50>"
      ]
     },
     "execution_count": 16,
     "metadata": {},
     "output_type": "execute_result"
    },
    {
     "data": {
      "image/png": "[encoded data removed]",
      "text/plain": [
       "<Figure size 1000x500 with 1 Axes>"
      ]
     },
     "metadata": {},
     "output_type": "display_data"
    }
   ],
   "source": [
    "p2 = sns.catplot(x='VendorID', kind='count', data=data_jan, palette='viridis', height=5, aspect=2)\n",
    "p2.set_axis_labels(\"Vendor ID\", \"Number of Trips\")\n",
    "p2.set_titles(\"Distribution of Vendor ID\")"
   ]
  },
  {
   "cell_type": "markdown",
   "id": "86457142-6f23-4fa4-baba-9b930cb16d1d",
   "metadata": {},
   "source": [
    "- As per the graph vendor 2,VeriFone Inc is more popular"
   ]
  },
  {
   "cell_type": "markdown",
   "id": "70ea2976-2133-49af-923e-de7e06478d16",
   "metadata": {},
   "source": [
    "### Passenger Count\n",
    "***\n",
    "In nyc city max passenger allowed is 5 adult + 1 minor"
   ]
  },
  {
   "cell_type": "code",
   "execution_count": 17,
   "id": "769ab89a-eaee-4419-8255-33ea026452c7",
   "metadata": {
    "scrolled": true
   },
   "outputs": [
    {
     "data": {
      "text/plain": [
       "passenger_count\n",
       "1    7725504\n",
       "2    1561734\n",
       "5     601038\n",
       "3     436414\n",
       "6     369147\n",
       "4     210638\n",
       "0        519\n",
       "8         26\n",
       "9         23\n",
       "7         22\n",
       "Name: count, dtype: int64"
      ]
     },
     "execution_count": 17,
     "metadata": {},
     "output_type": "execute_result"
    }
   ],
   "source": [
    "data_jan[\"passenger_count\"].value_counts()"
   ]
  },
  {
   "cell_type": "code",
   "execution_count": 18,
   "id": "fef26fcc-04e3-452b-a258-fc91430a7484",
   "metadata": {},
   "outputs": [
    {
     "data": {
      "text/plain": [
       "count    1.090506e+07\n",
       "mean     1.670912e+00\n",
       "std      1.324953e+00\n",
       "min      0.000000e+00\n",
       "25%      1.000000e+00\n",
       "50%      1.000000e+00\n",
       "75%      2.000000e+00\n",
       "max      9.000000e+00\n",
       "Name: passenger_count, dtype: float64"
      ]
     },
     "execution_count": 18,
     "metadata": {},
     "output_type": "execute_result"
    }
   ],
   "source": [
    "data_jan[\"passenger_count\"].describe()"
   ]
  },
  {
   "cell_type": "code",
   "execution_count": 19,
   "id": "26ca3a52-72be-4a0e-9700-5862e689d6c0",
   "metadata": {},
   "outputs": [
    {
     "data": {
      "image/png": "[encoded data removed]",
      "text/plain": [
       "<Figure size 2000x500 with 1 Axes>"
      ]
     },
     "metadata": {},
     "output_type": "display_data"
    }
   ],
   "source": [
    "plt.figure(figsize = (20,5))\n",
    "sns.boxplot(data_jan[\"passenger_count\"])\n",
    "\n",
    "plt.show()"
   ]
  },
  {
   "cell_type": "code",
   "execution_count": 20,
   "id": "f4ce7845",
   "metadata": {
    "scrolled": true
   },
   "outputs": [
    {
     "data": {
      "text/plain": [
       "<seaborn.axisgrid.FacetGrid at 0x2c2422310>"
      ]
     },
     "execution_count": 20,
     "metadata": {},
     "output_type": "execute_result"
    },
    {
     "data": {
      "image/png": "[encoded data removed]",
      "text/plain": [
       "<Figure size 400x200 with 1 Axes>"
      ]
     },
     "metadata": {},
     "output_type": "display_data"
    }
   ],
   "source": [
    "p2 = sns.catplot(x='passenger_count', kind='count', data=data_jan, palette='viridis', height=2, aspect=2)\n",
    "p2.set_axis_labels(\"Number of passengers\", \"Count\")\n",
    "p2.set_titles(\"Distribution of Vendor ID\")"
   ]
  },
  {
   "cell_type": "markdown",
   "id": "1897d1e7-8759-4d8b-8b32-338efdece3ac",
   "metadata": {},
   "source": [
    "#### Observations:\n",
    "\n",
    "- In data set there is trips with 0 passengers\n",
    "- There is passengers count with more than 6 passengers\n",
    "#### Action:\n",
    "\n",
    "- Mean value of the passenger count feature is 1.66 so replacing 0 passengers data wiht min 1 passenger\n",
    "- We are going to remove outliers for passenger count by considering trips only less than or equal to 6 passengers\n"
   ]
  },
  {
   "cell_type": "code",
   "execution_count": 21,
   "id": "ae2ea91b",
   "metadata": {},
   "outputs": [],
   "source": [
    "#replacing 0 passenger count with 1\n",
    "data_jan['passenger_count'] = np.where(data_jan['passenger_count'] == 0, 1, data_jan['passenger_count'])"
   ]
  },
  {
   "cell_type": "code",
   "execution_count": 22,
   "id": "59c6cce1-eb49-4d73-93cf-daa18a7cb99d",
   "metadata": {},
   "outputs": [],
   "source": [
    "#Considering only passenger count less than or equal to 6\n",
    "data_jan = data_jan[data_jan['passenger_count'] <= 6]"
   ]
  },
  {
   "cell_type": "markdown",
   "id": "6d1a5d84-f3ca-4003-8e08-a193ee9b72ab",
   "metadata": {},
   "source": [
    "### Trip Distance\n",
    "***\n",
    "Lets now have a look on the defferent types of trips and distences "
   ]
  },
  {
   "cell_type": "code",
   "execution_count": 23,
   "id": "6d41b7ae-8214-4378-82d7-97393e607b87",
   "metadata": {},
   "outputs": [
    {
     "data": {
      "text/plain": [
       "count   10904994.000\n",
       "mean           7.238\n",
       "std         4729.862\n",
       "min            0.000\n",
       "25%            1.610\n",
       "50%            2.700\n",
       "75%            4.960\n",
       "max     12874736.090\n",
       "Name: trip_distance, dtype: float64"
      ]
     },
     "execution_count": 23,
     "metadata": {},
     "output_type": "execute_result"
    }
   ],
   "source": [
    "pd.set_option('display.float_format', lambda x: '%.3f' % x)\n",
    "data_jan['trip_distance'].describe()"
   ]
  },
  {
   "cell_type": "code",
   "execution_count": 24,
   "id": "f98265cd-3b51-44ec-8597-537f3a7f7d6f",
   "metadata": {},
   "outputs": [
    {
     "data": {
      "image/png": "[encoded data removed]",
      "text/plain": [
       "<Figure size 2000x500 with 1 Axes>"
      ]
     },
     "metadata": {},
     "output_type": "display_data"
    }
   ],
   "source": [
    "plt.figure(figsize = (20,5)) \n",
    "sns.boxplot(data_jan.trip_distance)\n",
    "plt.gca().xaxis.set_major_formatter(ScalarFormatter(useMathText=True, useOffset=False))\n",
    "plt.show()"
   ]
  },
  {
   "cell_type": "code",
   "execution_count": 25,
   "id": "5e25d1da-c5c4-4d6f-8266-7bd60c0f1c6f",
   "metadata": {},
   "outputs": [
    {
     "name": "stderr",
     "output_type": "stream",
     "text": [
      "/var/folders/j3/hpl51kl96xgg0w6dc46nyy640000gn/T/ipykernel_7700/387381113.py:2: FutureWarning: The default of observed=False is deprecated and will be changed to True in a future version of pandas. Pass observed=False to retain current behavior or observed=True to adopt the future default and silence this warning.\n",
      "  group_data=data_jan.trip_distance.groupby(pd.cut(data_jan.trip_distance,bins)).count()\n"
     ]
    },
    {
     "data": {
      "image/png": "[encoded data removed]",
      "text/plain": [
       "<Figure size 640x480 with 1 Axes>"
      ]
     },
     "metadata": {},
     "output_type": "display_data"
    }
   ],
   "source": [
    "bins= np.arange(0,100,10)\n",
    "group_data=data_jan.trip_distance.groupby(pd.cut(data_jan.trip_distance,bins)).count()\n",
    "ax = group_data.plot(kind='barh')\n",
    "plt.show()\n"
   ]
  },
  {
   "cell_type": "markdown",
   "id": "4eb51741-912c-4f50-98a2-4d9b2815ab87",
   "metadata": {},
   "source": [
    "#### Observations:\n",
    "\n",
    "- We observed outliers in the distance when we analysed by box plot\n",
    "- Most of the tips are having 0 to 10km\n",
    "- There is trips with 0 distance and that cant be taken as a data it will be occured dueto some technical issues or passenger trip canceled\n",
    "#### Action:\n",
    "\n",
    "- Have to be taken care of these inconsistencies in zero distance in some way after bivarent analysis.\n",
    "- Removing outliers using winsorization persentail"
   ]
  },
  {
   "cell_type": "code",
   "execution_count": 26,
   "id": "3664c8aa-91b3-4521-8557-d4db5b1b0668",
   "metadata": {},
   "outputs": [
    {
     "name": "stdout",
     "output_type": "stream",
     "text": [
      "40.07 0.0\n"
     ]
    }
   ],
   "source": [
    "#outlier detectin using winsorization persentail\n",
    "u_limit = data_jan['trip_distance'].quantile(0.999)\n",
    "\n",
    "l_limit = data_jan['trip_distance'].quantile(0.001)\n",
    "print(u_limit,l_limit)"
   ]
  },
  {
   "cell_type": "code",
   "execution_count": 27,
   "id": "06a90565-9152-4e09-8ddf-b9bf9128f9fa",
   "metadata": {},
   "outputs": [
    {
     "data": {
      "text/html": [
       "<div>\n",
       "<style scoped>\n",
       "    .dataframe tbody tr th:only-of-type {\n",
       "        vertical-align: middle;\n",
       "    }\n",
       "\n",
       "    .dataframe tbody tr th {\n",
       "        vertical-align: top;\n",
       "    }\n",
       "\n",
       "    .dataframe thead th {\n",
       "        text-align: right;\n",
       "    }\n",
       "</style>\n",
       "<table border=\"1\" class=\"dataframe\">\n",
       "  <thead>\n",
       "    <tr style=\"text-align: right;\">\n",
       "      <th></th>\n",
       "      <th>VendorID</th>\n",
       "      <th>tpep_pickup_datetime</th>\n",
       "      <th>tpep_dropoff_datetime</th>\n",
       "      <th>passenger_count</th>\n",
       "      <th>trip_distance</th>\n",
       "      <th>RatecodeID</th>\n",
       "      <th>store_and_fwd_flag</th>\n",
       "      <th>PULocationID</th>\n",
       "      <th>DOLocationID</th>\n",
       "      <th>payment_type</th>\n",
       "      <th>...</th>\n",
       "      <th>tip_amount</th>\n",
       "      <th>tolls_amount</th>\n",
       "      <th>improvement_surcharge</th>\n",
       "      <th>total_amount</th>\n",
       "      <th>pickup_hour</th>\n",
       "      <th>weekday</th>\n",
       "      <th>month</th>\n",
       "      <th>pickup_day_name</th>\n",
       "      <th>trip_duration_sec</th>\n",
       "      <th>avg_speed_kph</th>\n",
       "    </tr>\n",
       "  </thead>\n",
       "  <tbody>\n",
       "    <tr>\n",
       "      <th>5107</th>\n",
       "      <td>2</td>\n",
       "      <td>2016-01-01 00:48:02</td>\n",
       "      <td>2016-01-01 01:33:13</td>\n",
       "      <td>6</td>\n",
       "      <td>46.330</td>\n",
       "      <td>4</td>\n",
       "      <td>N</td>\n",
       "      <td>181</td>\n",
       "      <td>265</td>\n",
       "      <td>1</td>\n",
       "      <td>...</td>\n",
       "      <td>19.760</td>\n",
       "      <td>0.000</td>\n",
       "      <td>0.300</td>\n",
       "      <td>118.560</td>\n",
       "      <td>0</td>\n",
       "      <td>4</td>\n",
       "      <td>1</td>\n",
       "      <td>Friday</td>\n",
       "      <td>2711.000</td>\n",
       "      <td>61.520</td>\n",
       "    </tr>\n",
       "    <tr>\n",
       "      <th>5805</th>\n",
       "      <td>1</td>\n",
       "      <td>2016-01-01 00:24:37</td>\n",
       "      <td>2016-01-01 01:06:19</td>\n",
       "      <td>1</td>\n",
       "      <td>40.390</td>\n",
       "      <td>1</td>\n",
       "      <td>N</td>\n",
       "      <td>161</td>\n",
       "      <td>23</td>\n",
       "      <td>1</td>\n",
       "      <td>...</td>\n",
       "      <td>5.000</td>\n",
       "      <td>11.080</td>\n",
       "      <td>0.300</td>\n",
       "      <td>85.380</td>\n",
       "      <td>0</td>\n",
       "      <td>4</td>\n",
       "      <td>1</td>\n",
       "      <td>Friday</td>\n",
       "      <td>2502.000</td>\n",
       "      <td>58.120</td>\n",
       "    </tr>\n",
       "    <tr>\n",
       "      <th>11024</th>\n",
       "      <td>1</td>\n",
       "      <td>2016-01-01 00:41:53</td>\n",
       "      <td>2016-01-01 01:50:34</td>\n",
       "      <td>1</td>\n",
       "      <td>64.860</td>\n",
       "      <td>4</td>\n",
       "      <td>N</td>\n",
       "      <td>263</td>\n",
       "      <td>265</td>\n",
       "      <td>2</td>\n",
       "      <td>...</td>\n",
       "      <td>0.000</td>\n",
       "      <td>0.000</td>\n",
       "      <td>0.300</td>\n",
       "      <td>185.800</td>\n",
       "      <td>0</td>\n",
       "      <td>4</td>\n",
       "      <td>1</td>\n",
       "      <td>Friday</td>\n",
       "      <td>4121.000</td>\n",
       "      <td>56.660</td>\n",
       "    </tr>\n",
       "    <tr>\n",
       "      <th>11942</th>\n",
       "      <td>2</td>\n",
       "      <td>2016-01-01 00:28:48</td>\n",
       "      <td>2016-01-01 01:18:33</td>\n",
       "      <td>2</td>\n",
       "      <td>41.750</td>\n",
       "      <td>1</td>\n",
       "      <td>N</td>\n",
       "      <td>50</td>\n",
       "      <td>92</td>\n",
       "      <td>2</td>\n",
       "      <td>...</td>\n",
       "      <td>0.000</td>\n",
       "      <td>5.540</td>\n",
       "      <td>0.300</td>\n",
       "      <td>78.340</td>\n",
       "      <td>0</td>\n",
       "      <td>4</td>\n",
       "      <td>1</td>\n",
       "      <td>Friday</td>\n",
       "      <td>2985.000</td>\n",
       "      <td>50.350</td>\n",
       "    </tr>\n",
       "    <tr>\n",
       "      <th>14824</th>\n",
       "      <td>2</td>\n",
       "      <td>2016-01-01 00:47:50</td>\n",
       "      <td>2016-01-01 01:48:25</td>\n",
       "      <td>1</td>\n",
       "      <td>75.820</td>\n",
       "      <td>5</td>\n",
       "      <td>N</td>\n",
       "      <td>186</td>\n",
       "      <td>265</td>\n",
       "      <td>1</td>\n",
       "      <td>...</td>\n",
       "      <td>0.000</td>\n",
       "      <td>0.000</td>\n",
       "      <td>0.300</td>\n",
       "      <td>163.300</td>\n",
       "      <td>0</td>\n",
       "      <td>4</td>\n",
       "      <td>1</td>\n",
       "      <td>Friday</td>\n",
       "      <td>3635.000</td>\n",
       "      <td>75.090</td>\n",
       "    </tr>\n",
       "    <tr>\n",
       "      <th>...</th>\n",
       "      <td>...</td>\n",
       "      <td>...</td>\n",
       "      <td>...</td>\n",
       "      <td>...</td>\n",
       "      <td>...</td>\n",
       "      <td>...</td>\n",
       "      <td>...</td>\n",
       "      <td>...</td>\n",
       "      <td>...</td>\n",
       "      <td>...</td>\n",
       "      <td>...</td>\n",
       "      <td>...</td>\n",
       "      <td>...</td>\n",
       "      <td>...</td>\n",
       "      <td>...</td>\n",
       "      <td>...</td>\n",
       "      <td>...</td>\n",
       "      <td>...</td>\n",
       "      <td>...</td>\n",
       "      <td>...</td>\n",
       "      <td>...</td>\n",
       "    </tr>\n",
       "    <tr>\n",
       "      <th>10898823</th>\n",
       "      <td>2</td>\n",
       "      <td>2016-01-31 23:54:32</td>\n",
       "      <td>2016-02-01 00:34:58</td>\n",
       "      <td>1</td>\n",
       "      <td>45.750</td>\n",
       "      <td>2</td>\n",
       "      <td>N</td>\n",
       "      <td>132</td>\n",
       "      <td>13</td>\n",
       "      <td>2</td>\n",
       "      <td>...</td>\n",
       "      <td>0.000</td>\n",
       "      <td>5.540</td>\n",
       "      <td>0.300</td>\n",
       "      <td>58.340</td>\n",
       "      <td>23</td>\n",
       "      <td>6</td>\n",
       "      <td>1</td>\n",
       "      <td>Sunday</td>\n",
       "      <td>2426.000</td>\n",
       "      <td>67.890</td>\n",
       "    </tr>\n",
       "    <tr>\n",
       "      <th>10899074</th>\n",
       "      <td>1</td>\n",
       "      <td>2016-01-31 23:20:10</td>\n",
       "      <td>2016-02-01 00:14:38</td>\n",
       "      <td>1</td>\n",
       "      <td>57.780</td>\n",
       "      <td>1</td>\n",
       "      <td>N</td>\n",
       "      <td>74</td>\n",
       "      <td>265</td>\n",
       "      <td>2</td>\n",
       "      <td>...</td>\n",
       "      <td>0.000</td>\n",
       "      <td>5.540</td>\n",
       "      <td>0.300</td>\n",
       "      <td>104.840</td>\n",
       "      <td>23</td>\n",
       "      <td>6</td>\n",
       "      <td>1</td>\n",
       "      <td>Sunday</td>\n",
       "      <td>3268.000</td>\n",
       "      <td>63.650</td>\n",
       "    </tr>\n",
       "    <tr>\n",
       "      <th>10899171</th>\n",
       "      <td>1</td>\n",
       "      <td>2016-01-31 23:48:16</td>\n",
       "      <td>2016-02-01 00:32:15</td>\n",
       "      <td>2</td>\n",
       "      <td>42.810</td>\n",
       "      <td>1</td>\n",
       "      <td>N</td>\n",
       "      <td>132</td>\n",
       "      <td>175</td>\n",
       "      <td>2</td>\n",
       "      <td>...</td>\n",
       "      <td>0.000</td>\n",
       "      <td>0.000</td>\n",
       "      <td>0.300</td>\n",
       "      <td>72.800</td>\n",
       "      <td>23</td>\n",
       "      <td>6</td>\n",
       "      <td>1</td>\n",
       "      <td>Sunday</td>\n",
       "      <td>2639.000</td>\n",
       "      <td>58.400</td>\n",
       "    </tr>\n",
       "    <tr>\n",
       "      <th>10900538</th>\n",
       "      <td>2</td>\n",
       "      <td>2016-01-31 23:24:00</td>\n",
       "      <td>2016-02-01 00:14:32</td>\n",
       "      <td>1</td>\n",
       "      <td>45.540</td>\n",
       "      <td>1</td>\n",
       "      <td>N</td>\n",
       "      <td>163</td>\n",
       "      <td>201</td>\n",
       "      <td>2</td>\n",
       "      <td>...</td>\n",
       "      <td>0.000</td>\n",
       "      <td>2.080</td>\n",
       "      <td>0.300</td>\n",
       "      <td>79.880</td>\n",
       "      <td>23</td>\n",
       "      <td>6</td>\n",
       "      <td>1</td>\n",
       "      <td>Sunday</td>\n",
       "      <td>3032.000</td>\n",
       "      <td>54.070</td>\n",
       "    </tr>\n",
       "    <tr>\n",
       "      <th>10903982</th>\n",
       "      <td>2</td>\n",
       "      <td>2016-01-31 23:06:46</td>\n",
       "      <td>2016-01-31 23:43:12</td>\n",
       "      <td>1</td>\n",
       "      <td>40.680</td>\n",
       "      <td>1</td>\n",
       "      <td>N</td>\n",
       "      <td>132</td>\n",
       "      <td>227</td>\n",
       "      <td>2</td>\n",
       "      <td>...</td>\n",
       "      <td>0.000</td>\n",
       "      <td>0.000</td>\n",
       "      <td>0.300</td>\n",
       "      <td>68.300</td>\n",
       "      <td>23</td>\n",
       "      <td>6</td>\n",
       "      <td>1</td>\n",
       "      <td>Sunday</td>\n",
       "      <td>2186.000</td>\n",
       "      <td>66.990</td>\n",
       "    </tr>\n",
       "  </tbody>\n",
       "</table>\n",
       "<p>10864 rows × 23 columns</p>\n",
       "</div>"
      ],
      "text/plain": [
       "          VendorID tpep_pickup_datetime tpep_dropoff_datetime  \\\n",
       "5107             2  2016-01-01 00:48:02   2016-01-01 01:33:13   \n",
       "5805             1  2016-01-01 00:24:37   2016-01-01 01:06:19   \n",
       "11024            1  2016-01-01 00:41:53   2016-01-01 01:50:34   \n",
       "11942            2  2016-01-01 00:28:48   2016-01-01 01:18:33   \n",
       "14824            2  2016-01-01 00:47:50   2016-01-01 01:48:25   \n",
       "...            ...                  ...                   ...   \n",
       "10898823         2  2016-01-31 23:54:32   2016-02-01 00:34:58   \n",
       "10899074         1  2016-01-31 23:20:10   2016-02-01 00:14:38   \n",
       "10899171         1  2016-01-31 23:48:16   2016-02-01 00:32:15   \n",
       "10900538         2  2016-01-31 23:24:00   2016-02-01 00:14:32   \n",
       "10903982         2  2016-01-31 23:06:46   2016-01-31 23:43:12   \n",
       "\n",
       "          passenger_count  trip_distance  RatecodeID store_and_fwd_flag  \\\n",
       "5107                    6         46.330           4                  N   \n",
       "5805                    1         40.390           1                  N   \n",
       "11024                   1         64.860           4                  N   \n",
       "11942                   2         41.750           1                  N   \n",
       "14824                   1         75.820           5                  N   \n",
       "...                   ...            ...         ...                ...   \n",
       "10898823                1         45.750           2                  N   \n",
       "10899074                1         57.780           1                  N   \n",
       "10899171                2         42.810           1                  N   \n",
       "10900538                1         45.540           1                  N   \n",
       "10903982                1         40.680           1                  N   \n",
       "\n",
       "          PULocationID  DOLocationID  payment_type  ...  tip_amount  \\\n",
       "5107               181           265             1  ...      19.760   \n",
       "5805               161            23             1  ...       5.000   \n",
       "11024              263           265             2  ...       0.000   \n",
       "11942               50            92             2  ...       0.000   \n",
       "14824              186           265             1  ...       0.000   \n",
       "...                ...           ...           ...  ...         ...   \n",
       "10898823           132            13             2  ...       0.000   \n",
       "10899074            74           265             2  ...       0.000   \n",
       "10899171           132           175             2  ...       0.000   \n",
       "10900538           163           201             2  ...       0.000   \n",
       "10903982           132           227             2  ...       0.000   \n",
       "\n",
       "          tolls_amount  improvement_surcharge  total_amount  pickup_hour  \\\n",
       "5107             0.000                  0.300       118.560            0   \n",
       "5805            11.080                  0.300        85.380            0   \n",
       "11024            0.000                  0.300       185.800            0   \n",
       "11942            5.540                  0.300        78.340            0   \n",
       "14824            0.000                  0.300       163.300            0   \n",
       "...                ...                    ...           ...          ...   \n",
       "10898823         5.540                  0.300        58.340           23   \n",
       "10899074         5.540                  0.300       104.840           23   \n",
       "10899171         0.000                  0.300        72.800           23   \n",
       "10900538         2.080                  0.300        79.880           23   \n",
       "10903982         0.000                  0.300        68.300           23   \n",
       "\n",
       "          weekday  month  pickup_day_name  trip_duration_sec  avg_speed_kph  \n",
       "5107            4      1           Friday           2711.000         61.520  \n",
       "5805            4      1           Friday           2502.000         58.120  \n",
       "11024           4      1           Friday           4121.000         56.660  \n",
       "11942           4      1           Friday           2985.000         50.350  \n",
       "14824           4      1           Friday           3635.000         75.090  \n",
       "...           ...    ...              ...                ...            ...  \n",
       "10898823        6      1           Sunday           2426.000         67.890  \n",
       "10899074        6      1           Sunday           3268.000         63.650  \n",
       "10899171        6      1           Sunday           2639.000         58.400  \n",
       "10900538        6      1           Sunday           3032.000         54.070  \n",
       "10903982        6      1           Sunday           2186.000         66.990  \n",
       "\n",
       "[10864 rows x 23 columns]"
      ]
     },
     "execution_count": 27,
     "metadata": {},
     "output_type": "execute_result"
    }
   ],
   "source": [
    "#only considering trip_distance between 1% and 99% of the trip_distance\n",
    "data_jan[data_jan[\"trip_distance\"]>u_limit]"
   ]
  },
  {
   "cell_type": "markdown",
   "id": "791ca9b7-d170-433f-a3b7-6b6c0a7802ba",
   "metadata": {},
   "source": [
    "### RateCode Id\n",
    "***\n",
    "We have 6 defferent rate code ids for the trips "
   ]
  },
  {
   "cell_type": "code",
   "execution_count": 28,
   "id": "75e22a43-c035-46f1-af40-288d3a894620",
   "metadata": {},
   "outputs": [
    {
     "data": {
      "image/png": "[encoded data removed]",
      "text/plain": [
       "<Figure size 1000x500 with 1 Axes>"
      ]
     },
     "metadata": {},
     "output_type": "display_data"
    }
   ],
   "source": [
    "prate = sns.catplot(x='RatecodeID', kind='count', data=data_jan, palette='viridis', height=5, aspect=2)\n",
    "prate.set_axis_labels(\"Ratecode Id\", \"Number of Trips\")\n",
    "prate.set_titles(\"Distribution of Ratecode Count\")\n",
    "\n",
    "# Adding percentage annotations on top of the bars\n",
    "total = float(len(data_jan))  # Total number of trips in the data\n",
    "for ax in prate.axes.flat:\n",
    "    for p in ax.patches:\n",
    "        percentage = '{:.1f}%'.format(100 * p.get_height() / total)\n",
    "        x = p.get_x() + p.get_width() / 2\n",
    "        y = p.get_height()\n",
    "        ax.annotate(percentage, (x, y), ha='center', va='bottom')\n",
    "\n",
    "plt.show()\n"
   ]
  },
  {
   "cell_type": "code",
   "execution_count": 29,
   "id": "08fd4749-65d5-4f78-87ce-9c2b2b22eb71",
   "metadata": {},
   "outputs": [
    {
     "data": {
      "text/plain": [
       "array([ 1,  3,  2,  5,  4,  6, 99])"
      ]
     },
     "execution_count": 29,
     "metadata": {},
     "output_type": "execute_result"
    }
   ],
   "source": [
    "data_jan.RatecodeID.unique()"
   ]
  },
  {
   "cell_type": "code",
   "execution_count": 30,
   "id": "fb929b97-4c54-4d1d-8037-83d3459c3108",
   "metadata": {},
   "outputs": [
    {
     "data": {
      "text/plain": [
       "4737"
      ]
     },
     "execution_count": 30,
     "metadata": {},
     "output_type": "execute_result"
    }
   ],
   "source": [
    "data_jan[data_jan.RatecodeID==99].count().sum()"
   ]
  },
  {
   "cell_type": "markdown",
   "id": "a4e06090-a46a-43a2-8507-d79493874c9d",
   "metadata": {},
   "source": [
    "#### Observations:\n",
    "\n",
    "- In ratecode it can only have values 1 to 6 here we have value 99 with 15237 records\n",
    "- Majority of the trips are calculated as standard rate\n",
    "#### Action:\n",
    "\n",
    "- so we can change this 99 to ratecode 1 that is standard rate"
   ]
  },
  {
   "cell_type": "code",
   "execution_count": 31,
   "id": "4b1bf016-46c7-449c-8fc7-2358c3ebe594",
   "metadata": {},
   "outputs": [
    {
     "name": "stderr",
     "output_type": "stream",
     "text": [
      "/var/folders/j3/hpl51kl96xgg0w6dc46nyy640000gn/T/ipykernel_7700/1076536103.py:2: SettingWithCopyWarning: \n",
      "A value is trying to be set on a copy of a slice from a DataFrame\n",
      "\n",
      "See the caveats in the documentation: https://pandas.pydata.org/pandas-docs/stable/user_guide/indexing.html#returning-a-view-versus-a-copy\n",
      "  data_jan['RatecodeID'].replace(99, 1, inplace=True)\n"
     ]
    }
   ],
   "source": [
    "#replacing 99 with unknown ratecode 1\n",
    "data_jan['RatecodeID'].replace(99, 1, inplace=True)"
   ]
  },
  {
   "cell_type": "code",
   "execution_count": null,
   "id": "e166e82b-d23e-47f1-ba56-cfdd402f4b6d",
   "metadata": {},
   "outputs": [],
   "source": []
  },
  {
   "cell_type": "markdown",
   "id": "fe96fa1c-4674-45ef-bf60-c643ce8344f4",
   "metadata": {},
   "source": [
    "### Store and forward flag\n",
    "***\n",
    "In this feature, ride data is stored in the cab memmory before forwarding it the vendor if there is any network isues these rides are having flag value 1, if it is not a stored ride then flag value is 0."
   ]
  },
  {
   "cell_type": "code",
   "execution_count": 32,
   "id": "553e3286-b6a8-4667-a4a5-8f9cc08f8f21",
   "metadata": {},
   "outputs": [
    {
     "data": {
      "text/plain": [
       "<seaborn.axisgrid.FacetGrid at 0x138205610>"
      ]
     },
     "execution_count": 32,
     "metadata": {},
     "output_type": "execute_result"
    },
    {
     "data": {
      "image/png": "[encoded data removed]",
      "text/plain": [
       "<Figure size 1000x500 with 1 Axes>"
      ]
     },
     "metadata": {},
     "output_type": "display_data"
    }
   ],
   "source": [
    "# Visualization 3: Bar plot for store_and_fwd_flag\n",
    "p3 = sns.catplot(x='store_and_fwd_flag', kind='count', data=data_jan, palette='viridis', height=5, aspect=2)\n",
    "p3.set(yscale='log')\n",
    "p3.set_axis_labels(\"Store and Forward Flag\", \"Number of Trips\")\n",
    "p3.set_titles(\"Distribution of Store and Forward Flag\")"
   ]
  },
  {
   "cell_type": "code",
   "execution_count": 33,
   "id": "6c3583c4-a3de-498a-8eb7-acbd8c165541",
   "metadata": {},
   "outputs": [
    {
     "data": {
      "text/plain": [
       "VendorID\n",
       "2    5834210\n",
       "1    5007600\n",
       "Name: count, dtype: int64"
      ]
     },
     "execution_count": 33,
     "metadata": {},
     "output_type": "execute_result"
    }
   ],
   "source": [
    "#counting the value y in vendor\n",
    "data_jan.VendorID[data_jan.store_and_fwd_flag == 'N'].value_counts()"
   ]
  },
  {
   "cell_type": "code",
   "execution_count": 34,
   "id": "2ce33389-0ea8-4bc9-9935-058069c618a8",
   "metadata": {},
   "outputs": [
    {
     "data": {
      "text/plain": [
       "VendorID\n",
       "1    63184\n",
       "Name: count, dtype: int64"
      ]
     },
     "execution_count": 34,
     "metadata": {},
     "output_type": "execute_result"
    }
   ],
   "source": [
    "data_jan.VendorID[data_jan.store_and_fwd_flag == 'Y'].value_counts()"
   ]
  },
  {
   "cell_type": "markdown",
   "id": "f3422046-4dee-49bd-a61b-47f7a72b02c9",
   "metadata": {},
   "source": [
    "#### Observations:\n",
    "\n",
    "- There is only a 63184 records with store and forward it shows most of the rides are not a stored one\n",
    "- These 63184 stored rides are occured with vendor 1, there is no stored rides for vendor 2\n",
    "- It will be some times vendor 2 is using advaced technologies than vendor 1\n"
   ]
  },
  {
   "cell_type": "markdown",
   "id": "3cbf679d-09b6-4514-83dd-1694f1b3463d",
   "metadata": {},
   "source": [
    "### Payment Type\n",
    "***\n",
    "Here this feature tells about how the passenger paid for the trip,1= Credit card 2= Cash 3= No charge 4= Dispute 5= Unknown 6= Voided trip"
   ]
  },
  {
   "cell_type": "code",
   "execution_count": 35,
   "id": "f6f542f4-4af6-4de4-a11e-fc0de909e8fb",
   "metadata": {},
   "outputs": [
    {
     "data": {
      "image/png": "[encoded data removed]",
      "text/plain": [
       "<Figure size 1000x500 with 1 Axes>"
      ]
     },
     "metadata": {},
     "output_type": "display_data"
    }
   ],
   "source": [
    "p_pay = sns.catplot(x='payment_type', kind='count', data=data_jan, palette='viridis', height=5, aspect=2)\n",
    "p_pay.set(yscale='log')\n",
    "p_pay.set_axis_labels(\"Payment Type\", \"Number of Payments\")\n",
    "p_pay.set_titles(\"Distribution of Payment Type Count\")\n",
    "\n",
    "plt.show()"
   ]
  },
  {
   "cell_type": "markdown",
   "id": "0d95ea92-0faa-4c29-805f-57ae246b4b09",
   "metadata": {},
   "source": [
    "#### Observations:\n",
    "\n",
    "- Most of the rides payed by credit card and cash\n"
   ]
  },
  {
   "cell_type": "markdown",
   "id": "151a9291-10f0-4e96-b04c-cdaf77787a0c",
   "metadata": {},
   "source": [
    "### Total Amount\n",
    "***\n",
    "This feature is the sum of all the charges fare_amount,extra,mta_tax,tip_amount,tolls_amount,improvement_surcharge"
   ]
  },
  {
   "cell_type": "code",
   "execution_count": 36,
   "id": "7278320b-25b7-47b3-87bf-87976ab214dc",
   "metadata": {},
   "outputs": [
    {
     "data": {
      "text/plain": [
       "count   10904994.000\n",
       "mean          15.642\n",
       "std           36.379\n",
       "min         -958.400\n",
       "25%            8.300\n",
       "50%           11.620\n",
       "75%           17.160\n",
       "max       111271.650\n",
       "Name: total_amount, dtype: float64"
      ]
     },
     "execution_count": 36,
     "metadata": {},
     "output_type": "execute_result"
    }
   ],
   "source": [
    "pd.set_option('display.float_format', lambda x: '%.3f' % x)\n",
    "data_jan.total_amount.describe()"
   ]
  },
  {
   "cell_type": "code",
   "execution_count": 37,
   "id": "d00402d1-999a-4ca1-b405-9af89fd2ae29",
   "metadata": {
    "scrolled": true
   },
   "outputs": [
    {
     "name": "stdout",
     "output_type": "stream",
     "text": [
      "<class 'pandas.core.frame.DataFrame'>\n",
      "Index: 10904994 entries, 0 to 10905066\n",
      "Data columns (total 17 columns):\n",
      " #   Column                 Dtype         \n",
      "---  ------                 -----         \n",
      " 0   VendorID               int64         \n",
      " 1   tpep_pickup_datetime   datetime64[ns]\n",
      " 2   tpep_dropoff_datetime  datetime64[ns]\n",
      " 3   passenger_count        int64         \n",
      " 4   trip_distance          float64       \n",
      " 5   RatecodeID             int64         \n",
      " 6   store_and_fwd_flag     object        \n",
      " 7   PULocationID           int64         \n",
      " 8   DOLocationID           int64         \n",
      " 9   payment_type           int64         \n",
      " 10  total_amount           float64       \n",
      " 11  pickup_hour            int32         \n",
      " 12  weekday                int32         \n",
      " 13  month                  int32         \n",
      " 14  pickup_day_name        object        \n",
      " 15  trip_duration_sec      float64       \n",
      " 16  avg_speed_kph          float64       \n",
      "dtypes: datetime64[ns](2), float64(4), int32(3), int64(6), object(2)\n",
      "memory usage: 1.3+ GB\n"
     ]
    }
   ],
   "source": [
    "data_jan = data_jan.drop(columns=['fare_amount','extra','mta_tax','tip_amount','tolls_amount','improvement_surcharge'])\n",
    "data_jan.info()"
   ]
  },
  {
   "cell_type": "code",
   "execution_count": 38,
   "id": "d514f749-9063-4882-b47a-3b1910a4c98b",
   "metadata": {},
   "outputs": [
    {
     "data": {
      "text/html": [
       "<div>\n",
       "<style scoped>\n",
       "    .dataframe tbody tr th:only-of-type {\n",
       "        vertical-align: middle;\n",
       "    }\n",
       "\n",
       "    .dataframe tbody tr th {\n",
       "        vertical-align: top;\n",
       "    }\n",
       "\n",
       "    .dataframe thead th {\n",
       "        text-align: right;\n",
       "    }\n",
       "</style>\n",
       "<table border=\"1\" class=\"dataframe\">\n",
       "  <thead>\n",
       "    <tr style=\"text-align: right;\">\n",
       "      <th></th>\n",
       "      <th>VendorID</th>\n",
       "      <th>tpep_pickup_datetime</th>\n",
       "      <th>tpep_dropoff_datetime</th>\n",
       "      <th>passenger_count</th>\n",
       "      <th>trip_distance</th>\n",
       "      <th>RatecodeID</th>\n",
       "      <th>store_and_fwd_flag</th>\n",
       "      <th>PULocationID</th>\n",
       "      <th>DOLocationID</th>\n",
       "      <th>payment_type</th>\n",
       "      <th>total_amount</th>\n",
       "      <th>pickup_hour</th>\n",
       "      <th>weekday</th>\n",
       "      <th>month</th>\n",
       "      <th>pickup_day_name</th>\n",
       "      <th>trip_duration_sec</th>\n",
       "      <th>avg_speed_kph</th>\n",
       "    </tr>\n",
       "  </thead>\n",
       "  <tbody>\n",
       "    <tr>\n",
       "      <th>953</th>\n",
       "      <td>2</td>\n",
       "      <td>2016-01-01 00:20:55</td>\n",
       "      <td>2016-01-01 00:24:47</td>\n",
       "      <td>1</td>\n",
       "      <td>0.980</td>\n",
       "      <td>1</td>\n",
       "      <td>N</td>\n",
       "      <td>232</td>\n",
       "      <td>232</td>\n",
       "      <td>4</td>\n",
       "      <td>-6.300</td>\n",
       "      <td>0</td>\n",
       "      <td>4</td>\n",
       "      <td>1</td>\n",
       "      <td>Friday</td>\n",
       "      <td>232.000</td>\n",
       "      <td>15.210</td>\n",
       "    </tr>\n",
       "    <tr>\n",
       "      <th>2826</th>\n",
       "      <td>2</td>\n",
       "      <td>2016-01-01 00:42:25</td>\n",
       "      <td>2016-01-01 00:42:47</td>\n",
       "      <td>1</td>\n",
       "      <td>0.060</td>\n",
       "      <td>1</td>\n",
       "      <td>N</td>\n",
       "      <td>90</td>\n",
       "      <td>90</td>\n",
       "      <td>4</td>\n",
       "      <td>-3.800</td>\n",
       "      <td>0</td>\n",
       "      <td>4</td>\n",
       "      <td>1</td>\n",
       "      <td>Friday</td>\n",
       "      <td>22.000</td>\n",
       "      <td>9.820</td>\n",
       "    </tr>\n",
       "    <tr>\n",
       "      <th>3400</th>\n",
       "      <td>2</td>\n",
       "      <td>2016-01-01 00:08:24</td>\n",
       "      <td>2016-01-01 00:18:34</td>\n",
       "      <td>1</td>\n",
       "      <td>0.160</td>\n",
       "      <td>5</td>\n",
       "      <td>N</td>\n",
       "      <td>246</td>\n",
       "      <td>246</td>\n",
       "      <td>4</td>\n",
       "      <td>-200.300</td>\n",
       "      <td>0</td>\n",
       "      <td>4</td>\n",
       "      <td>1</td>\n",
       "      <td>Friday</td>\n",
       "      <td>610.000</td>\n",
       "      <td>0.940</td>\n",
       "    </tr>\n",
       "    <tr>\n",
       "      <th>3460</th>\n",
       "      <td>2</td>\n",
       "      <td>2016-01-01 00:39:41</td>\n",
       "      <td>2016-01-01 00:40:09</td>\n",
       "      <td>2</td>\n",
       "      <td>0.030</td>\n",
       "      <td>1</td>\n",
       "      <td>N</td>\n",
       "      <td>68</td>\n",
       "      <td>68</td>\n",
       "      <td>3</td>\n",
       "      <td>-3.800</td>\n",
       "      <td>0</td>\n",
       "      <td>4</td>\n",
       "      <td>1</td>\n",
       "      <td>Friday</td>\n",
       "      <td>28.000</td>\n",
       "      <td>3.860</td>\n",
       "    </tr>\n",
       "    <tr>\n",
       "      <th>3712</th>\n",
       "      <td>2</td>\n",
       "      <td>2016-01-01 00:37:55</td>\n",
       "      <td>2016-01-01 00:39:54</td>\n",
       "      <td>2</td>\n",
       "      <td>0.430</td>\n",
       "      <td>1</td>\n",
       "      <td>N</td>\n",
       "      <td>142</td>\n",
       "      <td>142</td>\n",
       "      <td>3</td>\n",
       "      <td>-4.800</td>\n",
       "      <td>0</td>\n",
       "      <td>4</td>\n",
       "      <td>1</td>\n",
       "      <td>Friday</td>\n",
       "      <td>119.000</td>\n",
       "      <td>13.010</td>\n",
       "    </tr>\n",
       "    <tr>\n",
       "      <th>...</th>\n",
       "      <td>...</td>\n",
       "      <td>...</td>\n",
       "      <td>...</td>\n",
       "      <td>...</td>\n",
       "      <td>...</td>\n",
       "      <td>...</td>\n",
       "      <td>...</td>\n",
       "      <td>...</td>\n",
       "      <td>...</td>\n",
       "      <td>...</td>\n",
       "      <td>...</td>\n",
       "      <td>...</td>\n",
       "      <td>...</td>\n",
       "      <td>...</td>\n",
       "      <td>...</td>\n",
       "      <td>...</td>\n",
       "      <td>...</td>\n",
       "    </tr>\n",
       "    <tr>\n",
       "      <th>10892347</th>\n",
       "      <td>2</td>\n",
       "      <td>2016-01-31 22:22:52</td>\n",
       "      <td>2016-01-31 22:24:51</td>\n",
       "      <td>1</td>\n",
       "      <td>0.710</td>\n",
       "      <td>1</td>\n",
       "      <td>N</td>\n",
       "      <td>50</td>\n",
       "      <td>50</td>\n",
       "      <td>3</td>\n",
       "      <td>-4.800</td>\n",
       "      <td>22</td>\n",
       "      <td>6</td>\n",
       "      <td>1</td>\n",
       "      <td>Sunday</td>\n",
       "      <td>119.000</td>\n",
       "      <td>21.480</td>\n",
       "    </tr>\n",
       "    <tr>\n",
       "      <th>10895375</th>\n",
       "      <td>2</td>\n",
       "      <td>2016-01-31 22:51:17</td>\n",
       "      <td>2016-01-31 22:51:40</td>\n",
       "      <td>5</td>\n",
       "      <td>0.020</td>\n",
       "      <td>1</td>\n",
       "      <td>N</td>\n",
       "      <td>100</td>\n",
       "      <td>100</td>\n",
       "      <td>4</td>\n",
       "      <td>-3.800</td>\n",
       "      <td>22</td>\n",
       "      <td>6</td>\n",
       "      <td>1</td>\n",
       "      <td>Sunday</td>\n",
       "      <td>23.000</td>\n",
       "      <td>3.130</td>\n",
       "    </tr>\n",
       "    <tr>\n",
       "      <th>10896335</th>\n",
       "      <td>2</td>\n",
       "      <td>2016-01-31 23:37:49</td>\n",
       "      <td>2016-01-31 23:40:40</td>\n",
       "      <td>2</td>\n",
       "      <td>1.010</td>\n",
       "      <td>1</td>\n",
       "      <td>N</td>\n",
       "      <td>140</td>\n",
       "      <td>263</td>\n",
       "      <td>4</td>\n",
       "      <td>-5.800</td>\n",
       "      <td>23</td>\n",
       "      <td>6</td>\n",
       "      <td>1</td>\n",
       "      <td>Sunday</td>\n",
       "      <td>171.000</td>\n",
       "      <td>21.260</td>\n",
       "    </tr>\n",
       "    <tr>\n",
       "      <th>10900961</th>\n",
       "      <td>2</td>\n",
       "      <td>2016-01-31 23:32:32</td>\n",
       "      <td>2016-01-31 23:33:17</td>\n",
       "      <td>2</td>\n",
       "      <td>0.020</td>\n",
       "      <td>1</td>\n",
       "      <td>N</td>\n",
       "      <td>230</td>\n",
       "      <td>230</td>\n",
       "      <td>3</td>\n",
       "      <td>-3.800</td>\n",
       "      <td>23</td>\n",
       "      <td>6</td>\n",
       "      <td>1</td>\n",
       "      <td>Sunday</td>\n",
       "      <td>45.000</td>\n",
       "      <td>1.600</td>\n",
       "    </tr>\n",
       "    <tr>\n",
       "      <th>10904168</th>\n",
       "      <td>2</td>\n",
       "      <td>2016-01-31 23:54:26</td>\n",
       "      <td>2016-01-31 23:57:50</td>\n",
       "      <td>2</td>\n",
       "      <td>0.370</td>\n",
       "      <td>5</td>\n",
       "      <td>N</td>\n",
       "      <td>264</td>\n",
       "      <td>264</td>\n",
       "      <td>2</td>\n",
       "      <td>-234.800</td>\n",
       "      <td>23</td>\n",
       "      <td>6</td>\n",
       "      <td>1</td>\n",
       "      <td>Sunday</td>\n",
       "      <td>204.000</td>\n",
       "      <td>6.530</td>\n",
       "    </tr>\n",
       "  </tbody>\n",
       "</table>\n",
       "<p>4205 rows × 17 columns</p>\n",
       "</div>"
      ],
      "text/plain": [
       "          VendorID tpep_pickup_datetime tpep_dropoff_datetime  \\\n",
       "953              2  2016-01-01 00:20:55   2016-01-01 00:24:47   \n",
       "2826             2  2016-01-01 00:42:25   2016-01-01 00:42:47   \n",
       "3400             2  2016-01-01 00:08:24   2016-01-01 00:18:34   \n",
       "3460             2  2016-01-01 00:39:41   2016-01-01 00:40:09   \n",
       "3712             2  2016-01-01 00:37:55   2016-01-01 00:39:54   \n",
       "...            ...                  ...                   ...   \n",
       "10892347         2  2016-01-31 22:22:52   2016-01-31 22:24:51   \n",
       "10895375         2  2016-01-31 22:51:17   2016-01-31 22:51:40   \n",
       "10896335         2  2016-01-31 23:37:49   2016-01-31 23:40:40   \n",
       "10900961         2  2016-01-31 23:32:32   2016-01-31 23:33:17   \n",
       "10904168         2  2016-01-31 23:54:26   2016-01-31 23:57:50   \n",
       "\n",
       "          passenger_count  trip_distance  RatecodeID store_and_fwd_flag  \\\n",
       "953                     1          0.980           1                  N   \n",
       "2826                    1          0.060           1                  N   \n",
       "3400                    1          0.160           5                  N   \n",
       "3460                    2          0.030           1                  N   \n",
       "3712                    2          0.430           1                  N   \n",
       "...                   ...            ...         ...                ...   \n",
       "10892347                1          0.710           1                  N   \n",
       "10895375                5          0.020           1                  N   \n",
       "10896335                2          1.010           1                  N   \n",
       "10900961                2          0.020           1                  N   \n",
       "10904168                2          0.370           5                  N   \n",
       "\n",
       "          PULocationID  DOLocationID  payment_type  total_amount  pickup_hour  \\\n",
       "953                232           232             4        -6.300            0   \n",
       "2826                90            90             4        -3.800            0   \n",
       "3400               246           246             4      -200.300            0   \n",
       "3460                68            68             3        -3.800            0   \n",
       "3712               142           142             3        -4.800            0   \n",
       "...                ...           ...           ...           ...          ...   \n",
       "10892347            50            50             3        -4.800           22   \n",
       "10895375           100           100             4        -3.800           22   \n",
       "10896335           140           263             4        -5.800           23   \n",
       "10900961           230           230             3        -3.800           23   \n",
       "10904168           264           264             2      -234.800           23   \n",
       "\n",
       "          weekday  month pickup_day_name  trip_duration_sec  avg_speed_kph  \n",
       "953             4      1          Friday            232.000         15.210  \n",
       "2826            4      1          Friday             22.000          9.820  \n",
       "3400            4      1          Friday            610.000          0.940  \n",
       "3460            4      1          Friday             28.000          3.860  \n",
       "3712            4      1          Friday            119.000         13.010  \n",
       "...           ...    ...             ...                ...            ...  \n",
       "10892347        6      1          Sunday            119.000         21.480  \n",
       "10895375        6      1          Sunday             23.000          3.130  \n",
       "10896335        6      1          Sunday            171.000         21.260  \n",
       "10900961        6      1          Sunday             45.000          1.600  \n",
       "10904168        6      1          Sunday            204.000          6.530  \n",
       "\n",
       "[4205 rows x 17 columns]"
      ]
     },
     "execution_count": 38,
     "metadata": {},
     "output_type": "execute_result"
    }
   ],
   "source": [
    "data_jan[data_jan[\"total_amount\"]<0]"
   ]
  },
  {
   "cell_type": "code",
   "execution_count": 39,
   "id": "6be664ca-564c-4e57-a83b-24ea3d3a17c9",
   "metadata": {
    "scrolled": true
   },
   "outputs": [
    {
     "data": {
      "image/png": "[encoded data removed]",
      "text/plain": [
       "<Figure size 2000x500 with 1 Axes>"
      ]
     },
     "metadata": {},
     "output_type": "display_data"
    }
   ],
   "source": [
    "plt.figure(figsize = (20,5)) \n",
    "sns.boxplot(data_jan.total_amount)\n",
    "plt.gca().xaxis.set_major_formatter(ScalarFormatter(useMathText=True, useOffset=False))\n",
    "plt.show()"
   ]
  },
  {
   "cell_type": "markdown",
   "id": "1c765484-43d6-4a3d-abb8-df8cf16c7c1f",
   "metadata": {},
   "source": [
    "#### Observations:\n",
    "\n",
    "- There is data with 0 total amount and some of huge amonunt in total amount\n",
    "- There is total charge with negative values \n",
    "#### Action:\n",
    "- Total amount cant be negative so taking absolute values \n",
    "- Outliers can be removed by using winsorization persentail"
   ]
  },
  {
   "cell_type": "code",
   "execution_count": 40,
   "id": "232951cc-6622-49d2-9eaa-47afa3f28fab",
   "metadata": {},
   "outputs": [],
   "source": [
    "#taking absolut for negative total amount\n",
    "data_jan['total_amount'] = data_jan['total_amount'].abs()"
   ]
  },
  {
   "cell_type": "code",
   "execution_count": 41,
   "id": "af93194b-9bc0-465b-99ab-29e2eeee5a12",
   "metadata": {},
   "outputs": [
    {
     "name": "stdout",
     "output_type": "stream",
     "text": [
      "106.56 3.3\n"
     ]
    }
   ],
   "source": [
    "#outlier detection using winsorization persentail\n",
    "u_limit = data_jan['total_amount'].quantile(0.999)\n",
    "\n",
    "l_limit = data_jan['total_amount'].quantile(0.001)\n",
    "print(u_limit,l_limit)"
   ]
  },
  {
   "cell_type": "code",
   "execution_count": 42,
   "id": "e4b97ecb-6dc4-4e65-9835-9975e25e8825",
   "metadata": {},
   "outputs": [],
   "source": [
    "#trimming outliers\n",
    "data_jan = data_jan[(data_jan[\"total_amount\"] < u_limit) & (data_jan[\"total_amount\"] > l_limit)]"
   ]
  },
  {
   "cell_type": "markdown",
   "id": "e6ab768e-7558-48b1-a0e6-d882f21ecb48",
   "metadata": {},
   "source": [
    "### Trip duration\n",
    "***\n",
    "Finding invalid values and outliers for trip duration"
   ]
  },
  {
   "cell_type": "code",
   "execution_count": 43,
   "id": "35900931-b29e-4c02-96b3-8c2a90e6220a",
   "metadata": {},
   "outputs": [
    {
     "data": {
      "text/plain": [
       "count   10872503.000\n",
       "mean         915.818\n",
       "std         5218.419\n",
       "min        -2637.000\n",
       "25%          381.000\n",
       "50%          629.000\n",
       "75%         1013.000\n",
       "max      7194762.000\n",
       "Name: trip_duration_sec, dtype: float64"
      ]
     },
     "execution_count": 43,
     "metadata": {},
     "output_type": "execute_result"
    }
   ],
   "source": [
    "data_jan.trip_duration_sec.describe()"
   ]
  },
  {
   "cell_type": "markdown",
   "id": "3da93912-b0b0-41f6-8f43-e2b8d1abf2aa",
   "metadata": {},
   "source": [
    "#### Observations:\n",
    "\n",
    "- Trip duratin having negative values in it, it will be sometimes the swaping of data in pickup and drop off times\n",
    "- There is duration which is so higher and cant seen as a real data\n",
    "#### Actions\n",
    "- Taking absolut of the duration\n",
    "- Outliers can be removed by using winsorization persentail"
   ]
  },
  {
   "cell_type": "code",
   "execution_count": 44,
   "id": "c34f0dd3-7f60-46ed-9319-6fa7ffda817c",
   "metadata": {},
   "outputs": [],
   "source": [
    "# taking absolute of the duration\n",
    "data_jan['trip_duration_sec'] = data_jan['trip_duration_sec'].abs().round(2)"
   ]
  },
  {
   "cell_type": "code",
   "execution_count": 45,
   "id": "15a9c9cf-7790-4941-868c-dd4e6fca0598",
   "metadata": {},
   "outputs": [
    {
     "name": "stdout",
     "output_type": "stream",
     "text": [
      "85444.49800000153 2.0\n"
     ]
    }
   ],
   "source": [
    "#outlier detection using winsorization persentail\n",
    "u_limit = data_jan['trip_duration_sec'].quantile(0.999)\n",
    "\n",
    "l_limit = data_jan['trip_duration_sec'].quantile(0.001)\n",
    "print(u_limit,l_limit) "
   ]
  },
  {
   "cell_type": "code",
   "execution_count": 46,
   "id": "065fac17-e5ef-4181-a94b-60b964694005",
   "metadata": {},
   "outputs": [],
   "source": [
    "#here we can see rides with only 2 secound - it will be some times after the trip started passenger cancelled\n",
    "#trimming outliers\n",
    "data_jan = data_jan[(data_jan[\"trip_duration_sec\"] < u_limit) & (data_jan[\"trip_duration_sec\"] > l_limit)]"
   ]
  },
  {
   "cell_type": "markdown",
   "id": "6a915948-81f0-45b7-a8bc-f567afc9dee4",
   "metadata": {},
   "source": [
    "### Speed km/h\n",
    "***\n",
    "Finding invalid values and outliers for Trip average speed"
   ]
  },
  {
   "cell_type": "code",
   "execution_count": 47,
   "id": "a7444bb8-8ba7-447e-ae29-00e603c4d4c4",
   "metadata": {},
   "outputs": [
    {
     "data": {
      "text/plain": [
       "count    10848981.000\n",
       "mean           83.083\n",
       "std        190115.142\n",
       "min             0.000\n",
       "25%            12.780\n",
       "50%            17.100\n",
       "75%            23.200\n",
       "max     625372911.690\n",
       "Name: avg_speed_kph, dtype: float64"
      ]
     },
     "execution_count": 47,
     "metadata": {},
     "output_type": "execute_result"
    }
   ],
   "source": [
    "data_jan.avg_speed_kph.describe()"
   ]
  },
  {
   "cell_type": "code",
   "execution_count": 48,
   "id": "7d23434a-9464-4e3d-aa71-110bf3cfb8a1",
   "metadata": {},
   "outputs": [
    {
     "data": {
      "image/png": "[encoded data removed]",
      "text/plain": [
       "<Figure size 2000x500 with 1 Axes>"
      ]
     },
     "metadata": {},
     "output_type": "display_data"
    }
   ],
   "source": [
    "plt.figure(figsize = (20,5))\n",
    "sns.boxplot(data_jan.avg_speed_kph)\n",
    "plt.show()"
   ]
  },
  {
   "cell_type": "markdown",
   "id": "908507d6-cb5d-4c79-ac65-4173a1af42f1",
   "metadata": {},
   "source": [
    "#### Observations:\n",
    "\n",
    "- Mean for average speed is 83.083 km/h \n",
    "- There is trips wiht 0 average speed and a max 625372911.690 km/h this max values are unrealestic\n",
    "#### Actions\n",
    "- We considering only the rides which is less than 104 km/h according to the nyc traffic rule."
   ]
  },
  {
   "cell_type": "code",
   "execution_count": 49,
   "id": "2ba8bc83-337d-4e34-9cac-fad5e751d56d",
   "metadata": {},
   "outputs": [],
   "source": [
    "# removing speed which is having more than 104 km/h\n",
    "data_jan=data_jan[data_jan[\"avg_speed_kph\"] <= 104]"
   ]
  },
  {
   "cell_type": "markdown",
   "id": "70bbfc0f-3555-4561-b3f8-dbcca2a5e599",
   "metadata": {},
   "source": [
    "### Trip per Hour\n",
    "***\n"
   ]
  },
  {
   "cell_type": "code",
   "execution_count": 50,
   "id": "2a7b8faa-fe39-4b53-8f0b-c45b42a90db6",
   "metadata": {},
   "outputs": [
    {
     "data": {
      "image/png": "[encoded data removed]",
      "text/plain": [
       "<Figure size 1000x400 with 1 Axes>"
      ]
     },
     "metadata": {},
     "output_type": "display_data"
    }
   ],
   "source": [
    "plt.figure(figsize=(10, 4))\n",
    "\n",
    "sns.countplot(x='pickup_hour', data=data_jan, palette='viridis')\n",
    "plt.ylabel('Number of trips')\n",
    "plt.xlabel('Hours')\n",
    "plt.title('Number of Trips by Hour')\n",
    "plt.show()"
   ]
  },
  {
   "cell_type": "markdown",
   "id": "c8257517-aeb4-45a0-821f-d35ad978294c",
   "metadata": {
    "jp-MarkdownHeadingCollapsed": true
   },
   "source": [
    "#### Observations:\n",
    "\n",
    "- At midnight lesser number of rides and it gradually increasing from 6 am it will be due to office hours\n",
    "- And we can see that after 8 pm number of rides gradually decreasing"
   ]
  },
  {
   "cell_type": "markdown",
   "id": "90cdf403-55f1-4cbe-9493-640181788150",
   "metadata": {},
   "source": [
    "### Trip per Weekday\n",
    "***\n"
   ]
  },
  {
   "cell_type": "code",
   "execution_count": 51,
   "id": "868ddc92-a540-4da4-bf18-58b9e394998d",
   "metadata": {},
   "outputs": [
    {
     "data": {
      "image/png": "[encoded data removed]",
      "text/plain": [
       "<Figure size 1500x600 with 1 Axes>"
      ]
     },
     "metadata": {},
     "output_type": "display_data"
    }
   ],
   "source": [
    "import seaborn as sns\n",
    "import matplotlib.pyplot as plt\n",
    "\n",
    "#define weekday names\n",
    "day_names = ['Monday', 'Tuesday', 'Wednesday', 'Thursday', 'Friday', 'Saturday', 'Sunday']\n",
    "\n",
    "plt.figure(figsize=(15, 6))\n",
    "\n",
    "sns.countplot(x='weekday', data=data_jan, palette='viridis', order=range(7))\n",
    "plt.xticks(range(7), day_names) \n",
    "\n",
    "plt.ylabel('Number of trips')\n",
    "plt.xlabel('Weekday')\n",
    "plt.title('Number of Trips by Weekday')\n",
    "\n",
    "plt.show()"
   ]
  },
  {
   "cell_type": "markdown",
   "id": "98f93fad-2cec-4b3f-92c4-da10f70126ed",
   "metadata": {},
   "source": [
    "#### Observations:\n",
    "\n",
    "- weekends having more number of rides than other days"
   ]
  },
  {
   "cell_type": "markdown",
   "id": "ddc0ef05-75dc-4bd4-8376-a9da9bfec3fb",
   "metadata": {},
   "source": [
    "# Bivarate analysis\n",
    "- Trip duration per weekday, month\n",
    "- Distance per hour, weekday, month\n",
    "- Trip Distance vs Trip duration"
   ]
  },
  {
   "cell_type": "markdown",
   "id": "fd061514-16b0-4c97-b7ae-36aa9c2131ec",
   "metadata": {},
   "source": [
    "### Trip duration per Hour\n",
    "***"
   ]
  },
  {
   "cell_type": "code",
   "execution_count": 55,
   "id": "6ae5c742-17ad-4f21-b0af-255aa8ace792",
   "metadata": {},
   "outputs": [
    {
     "data": {
      "image/png": "[encoded data removed]",
      "text/plain": [
       "<Figure size 1200x600 with 1 Axes>"
      ]
     },
     "metadata": {},
     "output_type": "display_data"
    }
   ],
   "source": [
    "# Taking mean  of duratin for each hour\n",
    "group2 = data_jan.groupby('pickup_hour')['trip_duration_sec'].mean().reset_index()\n",
    "\n",
    "\n",
    "# figure size\n",
    "plt.figure(figsize=(12, 6))\n",
    "\n",
    "# Creating points and defining x and y axis\n",
    "sns.pointplot(x='pickup_hour', y='trip_duration_sec', data=group2, markers='o', linestyles='-', capsize=0.2)\n",
    "\n",
    "# Set labels and title for the graph\n",
    "plt.ylabel('Trip Duration (seconds)')\n",
    "plt.xlabel('Pickup Hour')\n",
    "plt.title('Average Trip Duration by Hour')\n",
    "\n",
    "\n",
    "plt.show()"
   ]
  },
  {
   "cell_type": "markdown",
   "id": "feb831b9-ca9a-4f1b-a1ba-a3ca3d2704df",
   "metadata": {},
   "source": [
    "### Trip duration per weekday\n",
    "***"
   ]
  },
  {
   "cell_type": "code",
   "execution_count": 53,
   "id": "21fa3e0a-1075-4004-b6a2-932712120c96",
   "metadata": {},
   "outputs": [
    {
     "data": {
      "image/png": "[encoded data removed]",
      "text/plain": [
       "<Figure size 1200x600 with 1 Axes>"
      ]
     },
     "metadata": {},
     "output_type": "display_data"
    }
   ],
   "source": [
    "# Taking mean  of duratin for each weekday\n",
    "group2 = data_jan.groupby('weekday')['trip_duration_sec'].mean().reset_index()\n",
    "\n",
    "\n",
    "# figure size\n",
    "plt.figure(figsize=(12, 6))\n",
    "\n",
    "# Creating points and defining x and y axis\n",
    "sns.pointplot(x='weekday', y='trip_duration_sec', data=group2, markers='o', linestyles='-', capsize=0.2)\n",
    "\n",
    "# Set labels and title for the graph\n",
    "plt.ylabel('Trip Duration (seconds)')\n",
    "plt.xlabel('Weekday')\n",
    "plt.title('Average Trip Duration by Weekday')\n",
    "\n",
    "# giving names for x axis\n",
    "day_names = ['Monday', 'Tuesday', 'Wednesday', 'Thursday', 'Friday', 'Saturday', 'Sunday']\n",
    "plt.xticks(range(7), day_names)\n",
    "\n",
    "plt.show()"
   ]
  },
  {
   "cell_type": "markdown",
   "id": "faf10afd-180a-4c10-8607-6f88677bca9b",
   "metadata": {},
   "source": [
    "#### Observations:\n",
    "\n",
    "- We can see that on Tuesday having longest trip duration among all days\n"
   ]
  },
  {
   "cell_type": "markdown",
   "id": "45274e9e-1f6d-4177-923e-d3b46e057e18",
   "metadata": {},
   "source": [
    "### Trip duration vs Trip Distance\n",
    "***"
   ]
  },
  {
   "cell_type": "code",
   "execution_count": 54,
   "id": "24221533-0cdc-4511-88a3-bb5a1cc6ede1",
   "metadata": {
    "scrolled": true
   },
   "outputs": [
    {
     "data": {
      "image/png": "[encoded data removed]",
      "text/plain": [
       "<Figure size 1200x600 with 1 Axes>"
      ]
     },
     "metadata": {},
     "output_type": "display_data"
    }
   ],
   "source": [
    "plt.figure(figsize=(12, 6))\n",
    "\n",
    "# Creating a scatter plot distance vs duration\n",
    "sns.scatterplot(x='trip_distance', y='trip_duration_sec', data=data_jan, alpha=0.5)\n",
    "\n",
    "# Set labels and title for the graph\n",
    "plt.xlabel('Trip Distance (km)')\n",
    "plt.ylabel('Trip Duration (seconds)')\n",
    "plt.title('Scatter Plot of Trip Distance vs Trip Duration')\n",
    "\n",
    "plt.show()"
   ]
  },
  {
   "cell_type": "markdown",
   "id": "91e5bc56-1fe2-4eaf-a9ae-4ffe5e5a56b8",
   "metadata": {},
   "source": [
    "#### Observation:\n",
    "\n",
    "-Here there is rides with 0 distance and rides which have zero duration\n",
    "\n",
    "#### Action:\n",
    "\n",
    "- Here we are going to filtering out the data with distance 0 and duration less than a minute for better\n",
    "- Checking for trips which is covered less than 1 km distance and but clocked more than an hour and going to remove thos"
   ]
  },
  {
   "cell_type": "markdown",
   "id": "df7a0d92-84d5-48f5-a78b-c2d73076d9a9",
   "metadata": {},
   "source": [
    "# Feature selection "
   ]
  },
  {
   "cell_type": "markdown",
   "id": "f177f7c7-c7fb-4e1f-aa19-2d3d4d6ed1bc",
   "metadata": {},
   "source": [
    "### Handling categorical features by dummy encoding\n",
    "***\n",
    "- VendorID,passenger_count,RatecodeID,store_and_fwd_flag,payment_type,pickup_hour,weekday,month,pickup_day_name"
   ]
  },
  {
   "cell_type": "code",
   "execution_count": null,
   "id": "2e161790-b611-41a4-8c48-c6095b1be03a",
   "metadata": {},
   "outputs": [],
   "source": [
    "dummy_vendor = pd.get_dummies(data_jan.VendorID, prefix='VendorID')\n",
    "dummy_vendor.drop(dummy_vendor.columns[0], axis=1, inplace=True) # droping first column after dummy creation for avoiding dummy trap and keeping others\n",
    "\n",
    "#converitng boolian to integer type\n",
    "dummy_vendor = dummy_vendor.astype(int)\n",
    "data_jan = pd.concat([data_jan,dummy_vendor], axis = 1)\n",
    "\n",
    "dummy_passenger = pd.get_dummies(data_jan.passenger_count, prefix='passenger_count')\n",
    "dummy_passenger.drop(dummy_passenger.columns[0], axis=1, inplace=True) # droping first column after dummy creation for avoiding dummy trap and keeping others\n",
    "#converitng boolian to integer type\n",
    "dummy_passenger = dummy_passenger.astype(int)\n",
    "data_jan = pd.concat([data_jan,dummy_passenger], axis = 1)\n",
    "\n",
    "dummy_ratecode = pd.get_dummies(data_jan.RatecodeID, prefix='RatecodeID')\n",
    "dummy_ratecode.drop(dummy_ratecode.columns[0], axis=1, inplace=True) # droping first column after dummy creation for avoiding dummy trap and keeping others\n",
    "#converitng boolian to integer type\n",
    "dummy_ratecode = dummy_ratecode.astype(int)\n",
    "data_jan = pd.concat([data_jan,dummy_ratecode], axis = 1)\n",
    "\n",
    "\n",
    "dummy_flag = pd.get_dummies(data_jan.store_and_fwd_flag, prefix='flag')\n",
    "dummy_flag.drop(dummy_flag.columns[0], axis=1, inplace=True) # droping first column after dummy creation for avoiding dummy trap and keeping others\n",
    "#converitng boolian to integer type\n",
    "dummy_flag = dummy_flag.astype(int)\n",
    "data_jan = pd.concat([data_jan,dummy_flag], axis = 1)\n",
    "\n",
    "dummy_payment_type = pd.get_dummies(data_jan.payment_type, prefix='payment_type')\n",
    "dummy_payment_type.drop(dummy_payment_type.columns[0], axis=1, inplace=True) # droping first column after dummy creation for avoiding dummy trap and keeping others\n",
    "#converitng boolian to integer type\n",
    "dummy_payment_type = dummy_payment_type.astype(int)\n",
    "data_jan = pd.concat([data_jan,dummy_payment_type], axis = 1)\n",
    "\n",
    "\n",
    "dummy_hour = pd.get_dummies(data_jan.pickup_hour, prefix='pickup_hour')\n",
    "dummy_hour.drop(dummy_hour.columns[0], axis=1, inplace=True)# droping first column after dummy creation for avoiding dummy trap and keeping others\n",
    "#converitng boolian to integer type\n",
    "dummy_hour = dummy_hour.astype(int)\n",
    "data_jan = pd.concat([data_jan,dummy_hour], axis = 1)\n",
    "\n",
    "\n",
    "dummy_weekday = pd.get_dummies(data_jan.weekday, prefix='weekday')\n",
    "dummy_weekday.drop(dummy_weekday.columns[0], axis=1, inplace=True) # droping first column after dummy creation for avoiding dummy trap and keeping others\n",
    "#converitng boolian to integer type\n",
    "dummy_weekday = dummy_weekday.astype(int)\n",
    "data_jan = pd.concat([data_jan,dummy_weekday], axis = 1)\n",
    "\n",
    "dummy_month = pd.get_dummies(data_jan.month, prefix='month')\n",
    "dummy_month.drop(dummy_month.columns[0], axis=1, inplace=True) # droping first column after dummy creation for avoiding dummy trap and keeping others\n",
    "#converitng boolian to integer type\n",
    "dummy_month = dummy_month.astype(int)\n",
    "data_jan = pd.concat([data_jan,dummy_month], axis = 1)\n"
   ]
  },
  {
   "cell_type": "code",
   "execution_count": null,
   "id": "6f421bad-a041-4b23-9855-802ecf60d057",
   "metadata": {},
   "outputs": [],
   "source": [
    "#checking index of features and its labels\n",
    "list(zip( range(0,len(data_jan.columns)),data_jan.columns))"
   ]
  },
  {
   "cell_type": "markdown",
   "id": "a313d145-c579-4921-9e6e-bab2234ae242",
   "metadata": {},
   "source": [
    "### Train Test split\n",
    "***"
   ]
  },
  {
   "cell_type": "code",
   "execution_count": null,
   "id": "49c304c9-7c35-4935-9b20-ee364bcc88ab",
   "metadata": {},
   "outputs": [],
   "source": [
    "# Feature variables X\n",
    "X = data_jan.iloc[:, [10] + list(range(15, 62))].values\n",
    "\n",
    "# Target variable Y\n",
    "Y = data_jan['trip_duration_sec'].values\n"
   ]
  },
  {
   "cell_type": "code",
   "execution_count": null,
   "id": "0894441e-7a60-4d53-99a0-2788a7898c4f",
   "metadata": {},
   "outputs": [],
   "source": [
    "#split data as test and train\n",
    "X_train, X_test, y_train, y_test = train_test_split(X,Y, random_state=4, test_size=0.2)"
   ]
  },
  {
   "cell_type": "markdown",
   "id": "27f8a92c-6560-45b1-8c17-e0f60171483e",
   "metadata": {},
   "source": [
    "### Heatmap\n"
   ]
  },
  {
   "cell_type": "code",
   "execution_count": null,
   "id": "87465f5a-7a10-43a2-b6d8-9354fcb8878a",
   "metadata": {
    "scrolled": true
   },
   "outputs": [],
   "source": [
    "plt.figure(figsize=(15,15))\n",
    "\n",
    "corr = pd.DataFrame(X_train).corr()\n",
    "#creating correlation metrix\n",
    "corr.index = pd.DataFrame(X_train).columns\n",
    "#heatmap creating \n",
    "sns.heatmap(corr, cmap='RdYlGn', vmin=-1, vmax=1, square=True)\n",
    "\n",
    "plt.title(\"Correlation Heatmap\", fontsize=16)\n",
    "plt.show()\n"
   ]
  },
  {
   "cell_type": "code",
   "execution_count": null,
   "id": "9d10e2f5-1281-4896-9376-f2a9d4eba80b",
   "metadata": {},
   "outputs": [],
   "source": []
  },
  {
   "cell_type": "markdown",
   "id": "ed795493-444a-4508-9621-ba8ee68517ab",
   "metadata": {},
   "source": [
    "# Model"
   ]
  },
  {
   "cell_type": "markdown",
   "id": "5e3888ad-08a5-49eb-8629-af7f1677d7ce",
   "metadata": {},
   "source": [
    "### Multiple Linear Regression\n",
    "***\n",
    "- It is used to explain the relationship between one continuous dependent and two or more dependent variable"
   ]
  },
  {
   "cell_type": "markdown",
   "id": "71d67d74-c3e6-4a1f-9d98-d16cb942a870",
   "metadata": {},
   "source": [
    "#### Train"
   ]
  },
  {
   "cell_type": "code",
   "execution_count": 62,
   "id": "5d517625-2cf6-4449-bf94-d1b52526a1a4",
   "metadata": {},
   "outputs": [
    {
     "data": {
      "text/html": [
       "<style>#sk-container-id-1 {color: black;background-color: white;}#sk-container-id-1 pre{padding: 0;}#sk-container-id-1 div.sk-toggleable {background-color: white;}#sk-container-id-1 label.sk-toggleable__label {cursor: pointer;display: block;width: 100%;margin-bottom: 0;padding: 0.3em;box-sizing: border-box;text-align: center;}#sk-container-id-1 label.sk-toggleable__label-arrow:before {content: \"▸\";float: left;margin-right: 0.25em;color: #696969;}#sk-container-id-1 label.sk-toggleable__label-arrow:hover:before {color: black;}#sk-container-id-1 div.sk-estimator:hover label.sk-toggleable__label-arrow:before {color: black;}#sk-container-id-1 div.sk-toggleable__content {max-height: 0;max-width: 0;overflow: hidden;text-align: left;background-color: #f0f8ff;}#sk-container-id-1 div.sk-toggleable__content pre {margin: 0.2em;color: black;border-radius: 0.25em;background-color: #f0f8ff;}#sk-container-id-1 input.sk-toggleable__control:checked~div.sk-toggleable__content {max-height: 200px;max-width: 100%;overflow: auto;}#sk-container-id-1 input.sk-toggleable__control:checked~label.sk-toggleable__label-arrow:before {content: \"▾\";}#sk-container-id-1 div.sk-estimator input.sk-toggleable__control:checked~label.sk-toggleable__label {background-color: #d4ebff;}#sk-container-id-1 div.sk-label input.sk-toggleable__control:checked~label.sk-toggleable__label {background-color: #d4ebff;}#sk-container-id-1 input.sk-hidden--visually {border: 0;clip: rect(1px 1px 1px 1px);clip: rect(1px, 1px, 1px, 1px);height: 1px;margin: -1px;overflow: hidden;padding: 0;position: absolute;width: 1px;}#sk-container-id-1 div.sk-estimator {font-family: monospace;background-color: #f0f8ff;border: 1px dotted black;border-radius: 0.25em;box-sizing: border-box;margin-bottom: 0.5em;}#sk-container-id-1 div.sk-estimator:hover {background-color: #d4ebff;}#sk-container-id-1 div.sk-parallel-item::after {content: \"\";width: 100%;border-bottom: 1px solid gray;flex-grow: 1;}#sk-container-id-1 div.sk-label:hover label.sk-toggleable__label {background-color: #d4ebff;}#sk-container-id-1 div.sk-serial::before {content: \"\";position: absolute;border-left: 1px solid gray;box-sizing: border-box;top: 0;bottom: 0;left: 50%;z-index: 0;}#sk-container-id-1 div.sk-serial {display: flex;flex-direction: column;align-items: center;background-color: white;padding-right: 0.2em;padding-left: 0.2em;position: relative;}#sk-container-id-1 div.sk-item {position: relative;z-index: 1;}#sk-container-id-1 div.sk-parallel {display: flex;align-items: stretch;justify-content: center;background-color: white;position: relative;}#sk-container-id-1 div.sk-item::before, #sk-container-id-1 div.sk-parallel-item::before {content: \"\";position: absolute;border-left: 1px solid gray;box-sizing: border-box;top: 0;bottom: 0;left: 50%;z-index: -1;}#sk-container-id-1 div.sk-parallel-item {display: flex;flex-direction: column;z-index: 1;position: relative;background-color: white;}#sk-container-id-1 div.sk-parallel-item:first-child::after {align-self: flex-end;width: 50%;}#sk-container-id-1 div.sk-parallel-item:last-child::after {align-self: flex-start;width: 50%;}#sk-container-id-1 div.sk-parallel-item:only-child::after {width: 0;}#sk-container-id-1 div.sk-dashed-wrapped {border: 1px dashed gray;margin: 0 0.4em 0.5em 0.4em;box-sizing: border-box;padding-bottom: 0.4em;background-color: white;}#sk-container-id-1 div.sk-label label {font-family: monospace;font-weight: bold;display: inline-block;line-height: 1.2em;}#sk-container-id-1 div.sk-label-container {text-align: center;}#sk-container-id-1 div.sk-container {/* jupyter's `normalize.less` sets `[hidden] { display: none; }` but bootstrap.min.css set `[hidden] { display: none !important; }` so we also need the `!important` here to be able to override the default hidden behavior on the sphinx rendered scikit-learn.org. See: https://github.com/scikit-learn/scikit-learn/issues/21755 */display: inline-block !important;position: relative;}#sk-container-id-1 div.sk-text-repr-fallback {display: none;}</style><div id=\"sk-container-id-1\" class=\"sk-top-container\"><div class=\"sk-text-repr-fallback\"><pre>LinearRegression()</pre><b>In a Jupyter environment, please rerun this cell to show the HTML representation or trust the notebook. <br />On GitHub, the HTML representation is unable to render, please try loading this page with nbviewer.org.</b></div><div class=\"sk-container\" hidden><div class=\"sk-item\"><div class=\"sk-estimator sk-toggleable\"><input class=\"sk-toggleable__control sk-hidden--visually\" id=\"sk-estimator-id-1\" type=\"checkbox\" checked><label for=\"sk-estimator-id-1\" class=\"sk-toggleable__label sk-toggleable__label-arrow\">LinearRegression</label><div class=\"sk-toggleable__content\"><pre>LinearRegression()</pre></div></div></div></div></div>"
      ],
      "text/plain": [
       "LinearRegression()"
      ]
     },
     "execution_count": 62,
     "metadata": {},
     "output_type": "execute_result"
    }
   ],
   "source": [
    "linear_regressor = LinearRegression() \n",
    "linear_regressor.fit(X_train,y_train)"
   ]
  },
  {
   "cell_type": "markdown",
   "id": "001f43b3-64c4-4da4-9075-47c0c7be0588",
   "metadata": {},
   "source": [
    "#### Predict"
   ]
  },
  {
   "cell_type": "code",
   "execution_count": 63,
   "id": "499d079f-0cab-442d-8d02-c7b7a3709bbe",
   "metadata": {},
   "outputs": [],
   "source": [
    "y_pred_linear = linear_regressor.predict(X_test) "
   ]
  },
  {
   "cell_type": "markdown",
   "id": "a8cdee21-64b6-4220-97a5-daabe742bb29",
   "metadata": {},
   "source": [
    "#### Evaluate"
   ]
  },
  {
   "cell_type": "code",
   "execution_count": 71,
   "id": "23ee34f4-06c6-4963-8a73-a3bcf05953f6",
   "metadata": {},
   "outputs": [
    {
     "name": "stdout",
     "output_type": "stream",
     "text": [
      "RMSE score : 2.2566883485488252e-09\n",
      "Variance score : 1.00\n"
     ]
    }
   ],
   "source": [
    "print('RMSE score : {}'.format(np.sqrt(metrics.mean_squared_error(y_test,y_pred_linear))))\n",
    "print('Variance score : %.2f' % linear_regressor.score(X_test, y_test))"
   ]
  },
  {
   "cell_type": "markdown",
   "id": "0dbda21f-a7c6-456b-8a16-3c479e06d386",
   "metadata": {},
   "source": [
    "#### Observation for Multiple Linear Regression"
   ]
  },
  {
   "cell_type": "markdown",
   "id": "5370bdbe-0b2b-4706-a6d8-16fd040eea70",
   "metadata": {},
   "source": [
    "- Perfect varience score\n",
    "  \n",
    "- Verry poor RMS value\n",
    "  \n",
    "- Not a good model for this data"
   ]
  },
  {
   "cell_type": "markdown",
   "id": "0055be25-82c4-4a24-94d7-541cfe6f63b4",
   "metadata": {},
   "source": [
    "### Random Forest Regression\n",
    "***\n",
    "-random forest fits a number of classifying decision trees on various sub samples of the dataset and use averaging to improve the predictive accuracy and control over-fitting"
   ]
  },
  {
   "cell_type": "markdown",
   "id": "b70eb6fa-5ed2-4a5a-b856-03cada0e7bbb",
   "metadata": {},
   "source": [
    "#### Train"
   ]
  },
  {
   "cell_type": "code",
   "execution_count": 67,
   "id": "9998bc8e-310c-4a6b-96d3-a34c0e189f33",
   "metadata": {},
   "outputs": [
    {
     "data": {
      "text/html": [
       "<style>#sk-container-id-2 {color: black;background-color: white;}#sk-container-id-2 pre{padding: 0;}#sk-container-id-2 div.sk-toggleable {background-color: white;}#sk-container-id-2 label.sk-toggleable__label {cursor: pointer;display: block;width: 100%;margin-bottom: 0;padding: 0.3em;box-sizing: border-box;text-align: center;}#sk-container-id-2 label.sk-toggleable__label-arrow:before {content: \"▸\";float: left;margin-right: 0.25em;color: #696969;}#sk-container-id-2 label.sk-toggleable__label-arrow:hover:before {color: black;}#sk-container-id-2 div.sk-estimator:hover label.sk-toggleable__label-arrow:before {color: black;}#sk-container-id-2 div.sk-toggleable__content {max-height: 0;max-width: 0;overflow: hidden;text-align: left;background-color: #f0f8ff;}#sk-container-id-2 div.sk-toggleable__content pre {margin: 0.2em;color: black;border-radius: 0.25em;background-color: #f0f8ff;}#sk-container-id-2 input.sk-toggleable__control:checked~div.sk-toggleable__content {max-height: 200px;max-width: 100%;overflow: auto;}#sk-container-id-2 input.sk-toggleable__control:checked~label.sk-toggleable__label-arrow:before {content: \"▾\";}#sk-container-id-2 div.sk-estimator input.sk-toggleable__control:checked~label.sk-toggleable__label {background-color: #d4ebff;}#sk-container-id-2 div.sk-label input.sk-toggleable__control:checked~label.sk-toggleable__label {background-color: #d4ebff;}#sk-container-id-2 input.sk-hidden--visually {border: 0;clip: rect(1px 1px 1px 1px);clip: rect(1px, 1px, 1px, 1px);height: 1px;margin: -1px;overflow: hidden;padding: 0;position: absolute;width: 1px;}#sk-container-id-2 div.sk-estimator {font-family: monospace;background-color: #f0f8ff;border: 1px dotted black;border-radius: 0.25em;box-sizing: border-box;margin-bottom: 0.5em;}#sk-container-id-2 div.sk-estimator:hover {background-color: #d4ebff;}#sk-container-id-2 div.sk-parallel-item::after {content: \"\";width: 100%;border-bottom: 1px solid gray;flex-grow: 1;}#sk-container-id-2 div.sk-label:hover label.sk-toggleable__label {background-color: #d4ebff;}#sk-container-id-2 div.sk-serial::before {content: \"\";position: absolute;border-left: 1px solid gray;box-sizing: border-box;top: 0;bottom: 0;left: 50%;z-index: 0;}#sk-container-id-2 div.sk-serial {display: flex;flex-direction: column;align-items: center;background-color: white;padding-right: 0.2em;padding-left: 0.2em;position: relative;}#sk-container-id-2 div.sk-item {position: relative;z-index: 1;}#sk-container-id-2 div.sk-parallel {display: flex;align-items: stretch;justify-content: center;background-color: white;position: relative;}#sk-container-id-2 div.sk-item::before, #sk-container-id-2 div.sk-parallel-item::before {content: \"\";position: absolute;border-left: 1px solid gray;box-sizing: border-box;top: 0;bottom: 0;left: 50%;z-index: -1;}#sk-container-id-2 div.sk-parallel-item {display: flex;flex-direction: column;z-index: 1;position: relative;background-color: white;}#sk-container-id-2 div.sk-parallel-item:first-child::after {align-self: flex-end;width: 50%;}#sk-container-id-2 div.sk-parallel-item:last-child::after {align-self: flex-start;width: 50%;}#sk-container-id-2 div.sk-parallel-item:only-child::after {width: 0;}#sk-container-id-2 div.sk-dashed-wrapped {border: 1px dashed gray;margin: 0 0.4em 0.5em 0.4em;box-sizing: border-box;padding-bottom: 0.4em;background-color: white;}#sk-container-id-2 div.sk-label label {font-family: monospace;font-weight: bold;display: inline-block;line-height: 1.2em;}#sk-container-id-2 div.sk-label-container {text-align: center;}#sk-container-id-2 div.sk-container {/* jupyter's `normalize.less` sets `[hidden] { display: none; }` but bootstrap.min.css set `[hidden] { display: none !important; }` so we also need the `!important` here to be able to override the default hidden behavior on the sphinx rendered scikit-learn.org. See: https://github.com/scikit-learn/scikit-learn/issues/21755 */display: inline-block !important;position: relative;}#sk-container-id-2 div.sk-text-repr-fallback {display: none;}</style><div id=\"sk-container-id-2\" class=\"sk-top-container\"><div class=\"sk-text-repr-fallback\"><pre>RandomForestRegressor(n_jobs=-1)</pre><b>In a Jupyter environment, please rerun this cell to show the HTML representation or trust the notebook. <br />On GitHub, the HTML representation is unable to render, please try loading this page with nbviewer.org.</b></div><div class=\"sk-container\" hidden><div class=\"sk-item\"><div class=\"sk-estimator sk-toggleable\"><input class=\"sk-toggleable__control sk-hidden--visually\" id=\"sk-estimator-id-2\" type=\"checkbox\" checked><label for=\"sk-estimator-id-2\" class=\"sk-toggleable__label sk-toggleable__label-arrow\">RandomForestRegressor</label><div class=\"sk-toggleable__content\"><pre>RandomForestRegressor(n_jobs=-1)</pre></div></div></div></div></div>"
      ],
      "text/plain": [
       "RandomForestRegressor(n_jobs=-1)"
      ]
     },
     "execution_count": 67,
     "metadata": {},
     "output_type": "execute_result"
    }
   ],
   "source": [
    "#default setting for RandomForestRegressor\n",
    "random_regressor= RandomForestRegressor(n_jobs=-1) #object created\n",
    "random_regressor.fit(X_train,y_train) #fitting the model"
   ]
  },
  {
   "cell_type": "markdown",
   "id": "b10cefb7-bc1c-4a9e-acf3-28a94ca8bc57",
   "metadata": {},
   "source": [
    "#### Predict"
   ]
  },
  {
   "cell_type": "code",
   "execution_count": 68,
   "id": "4fe74b73-a106-46a9-8464-72db630ad16e",
   "metadata": {},
   "outputs": [],
   "source": [
    "y_pred_random = random_regressor.predict(X_test)"
   ]
  },
  {
   "cell_type": "markdown",
   "id": "ff62a2c6-c09d-42c3-bf96-720ae9af1d43",
   "metadata": {},
   "source": [
    "#### Evaluate"
   ]
  },
  {
   "cell_type": "code",
   "execution_count": 97,
   "id": "3abdfc85-4cee-4806-96e7-c1724fd00363",
   "metadata": {},
   "outputs": [
    {
     "name": "stdout",
     "output_type": "stream",
     "text": [
      "RMSE score  : 0.5696920184233061\n",
      "RMSLE score  : 1.8890331498637335e-05\n",
      "R-squared score  : 1.00\n"
     ]
    }
   ],
   "source": [
    "print('RMSE score  : {}'.format(np.sqrt(metrics.mean_squared_error(y_test,y_pred_random))))\n",
    "print('RMSLE score  : {}'.format(np.sqrt(metrics.mean_squared_log_error(y_test,y_pred_random))))\n",
    "print('R-squared score  : {:.2f}'.format(r2_score(y_test, y_pred_random)))\n"
   ]
  },
  {
   "cell_type": "markdown",
   "id": "6781cbe1-9028-49be-8666-c7a9ebbed498",
   "metadata": {},
   "source": [
    "#### Observation"
   ]
  },
  {
   "cell_type": "markdown",
   "id": "9c574f22-6ccd-49f3-abfe-21d9b6766ada",
   "metadata": {},
   "source": [
    "- Lower RMS score value indicates better performance\n",
    "\n",
    "- Close to zero is desirable for RMSLE\n",
    "\n",
    "- Perfect R-squared score that is 1\n",
    "\n",
    "- **Best Perfoming Model**"
   ]
  },
  {
   "cell_type": "markdown",
   "id": "70baab6b-b1a1-41b0-9c3a-64ace1111448",
   "metadata": {},
   "source": [
    "### XGBoost Regressor\n",
    "***\n",
    "- Extreme Gradient Boosting, it converts weeklearnig features into strong learners"
   ]
  },
  {
   "cell_type": "markdown",
   "id": "794b13a5-2b4f-4d58-ac53-6fb13fa0605f",
   "metadata": {},
   "source": [
    "#### Train"
   ]
  },
  {
   "cell_type": "code",
   "execution_count": 88,
   "id": "edc69008-0756-4ed4-80f7-839c5f883873",
   "metadata": {},
   "outputs": [
    {
     "data": {
      "text/html": [
       "<style>#sk-container-id-3 {color: black;background-color: white;}#sk-container-id-3 pre{padding: 0;}#sk-container-id-3 div.sk-toggleable {background-color: white;}#sk-container-id-3 label.sk-toggleable__label {cursor: pointer;display: block;width: 100%;margin-bottom: 0;padding: 0.3em;box-sizing: border-box;text-align: center;}#sk-container-id-3 label.sk-toggleable__label-arrow:before {content: \"▸\";float: left;margin-right: 0.25em;color: #696969;}#sk-container-id-3 label.sk-toggleable__label-arrow:hover:before {color: black;}#sk-container-id-3 div.sk-estimator:hover label.sk-toggleable__label-arrow:before {color: black;}#sk-container-id-3 div.sk-toggleable__content {max-height: 0;max-width: 0;overflow: hidden;text-align: left;background-color: #f0f8ff;}#sk-container-id-3 div.sk-toggleable__content pre {margin: 0.2em;color: black;border-radius: 0.25em;background-color: #f0f8ff;}#sk-container-id-3 input.sk-toggleable__control:checked~div.sk-toggleable__content {max-height: 200px;max-width: 100%;overflow: auto;}#sk-container-id-3 input.sk-toggleable__control:checked~label.sk-toggleable__label-arrow:before {content: \"▾\";}#sk-container-id-3 div.sk-estimator input.sk-toggleable__control:checked~label.sk-toggleable__label {background-color: #d4ebff;}#sk-container-id-3 div.sk-label input.sk-toggleable__control:checked~label.sk-toggleable__label {background-color: #d4ebff;}#sk-container-id-3 input.sk-hidden--visually {border: 0;clip: rect(1px 1px 1px 1px);clip: rect(1px, 1px, 1px, 1px);height: 1px;margin: -1px;overflow: hidden;padding: 0;position: absolute;width: 1px;}#sk-container-id-3 div.sk-estimator {font-family: monospace;background-color: #f0f8ff;border: 1px dotted black;border-radius: 0.25em;box-sizing: border-box;margin-bottom: 0.5em;}#sk-container-id-3 div.sk-estimator:hover {background-color: #d4ebff;}#sk-container-id-3 div.sk-parallel-item::after {content: \"\";width: 100%;border-bottom: 1px solid gray;flex-grow: 1;}#sk-container-id-3 div.sk-label:hover label.sk-toggleable__label {background-color: #d4ebff;}#sk-container-id-3 div.sk-serial::before {content: \"\";position: absolute;border-left: 1px solid gray;box-sizing: border-box;top: 0;bottom: 0;left: 50%;z-index: 0;}#sk-container-id-3 div.sk-serial {display: flex;flex-direction: column;align-items: center;background-color: white;padding-right: 0.2em;padding-left: 0.2em;position: relative;}#sk-container-id-3 div.sk-item {position: relative;z-index: 1;}#sk-container-id-3 div.sk-parallel {display: flex;align-items: stretch;justify-content: center;background-color: white;position: relative;}#sk-container-id-3 div.sk-item::before, #sk-container-id-3 div.sk-parallel-item::before {content: \"\";position: absolute;border-left: 1px solid gray;box-sizing: border-box;top: 0;bottom: 0;left: 50%;z-index: -1;}#sk-container-id-3 div.sk-parallel-item {display: flex;flex-direction: column;z-index: 1;position: relative;background-color: white;}#sk-container-id-3 div.sk-parallel-item:first-child::after {align-self: flex-end;width: 50%;}#sk-container-id-3 div.sk-parallel-item:last-child::after {align-self: flex-start;width: 50%;}#sk-container-id-3 div.sk-parallel-item:only-child::after {width: 0;}#sk-container-id-3 div.sk-dashed-wrapped {border: 1px dashed gray;margin: 0 0.4em 0.5em 0.4em;box-sizing: border-box;padding-bottom: 0.4em;background-color: white;}#sk-container-id-3 div.sk-label label {font-family: monospace;font-weight: bold;display: inline-block;line-height: 1.2em;}#sk-container-id-3 div.sk-label-container {text-align: center;}#sk-container-id-3 div.sk-container {/* jupyter's `normalize.less` sets `[hidden] { display: none; }` but bootstrap.min.css set `[hidden] { display: none !important; }` so we also need the `!important` here to be able to override the default hidden behavior on the sphinx rendered scikit-learn.org. See: https://github.com/scikit-learn/scikit-learn/issues/21755 */display: inline-block !important;position: relative;}#sk-container-id-3 div.sk-text-repr-fallback {display: none;}</style><div id=\"sk-container-id-3\" class=\"sk-top-container\"><div class=\"sk-text-repr-fallback\"><pre>XGBRegressor(base_score=None, booster=None, callbacks=None,\n",
       "             colsample_bylevel=None, colsample_bynode=None,\n",
       "             colsample_bytree=None, device=None, early_stopping_rounds=None,\n",
       "             enable_categorical=False, eval_metric=None, feature_types=None,\n",
       "             gamma=None, grow_policy=None, importance_type=None,\n",
       "             interaction_constraints=None, learning_rate=None, max_bin=None,\n",
       "             max_cat_threshold=None, max_cat_to_onehot=None,\n",
       "             max_delta_step=None, max_depth=None, max_leaves=None,\n",
       "             min_child_weight=None, missing=nan, monotone_constraints=None,\n",
       "             multi_strategy=None, n_estimators=None, n_jobs=-1,\n",
       "             num_parallel_tree=None, random_state=None, ...)</pre><b>In a Jupyter environment, please rerun this cell to show the HTML representation or trust the notebook. <br />On GitHub, the HTML representation is unable to render, please try loading this page with nbviewer.org.</b></div><div class=\"sk-container\" hidden><div class=\"sk-item\"><div class=\"sk-estimator sk-toggleable\"><input class=\"sk-toggleable__control sk-hidden--visually\" id=\"sk-estimator-id-3\" type=\"checkbox\" checked><label for=\"sk-estimator-id-3\" class=\"sk-toggleable__label sk-toggleable__label-arrow\">XGBRegressor</label><div class=\"sk-toggleable__content\"><pre>XGBRegressor(base_score=None, booster=None, callbacks=None,\n",
       "             colsample_bylevel=None, colsample_bynode=None,\n",
       "             colsample_bytree=None, device=None, early_stopping_rounds=None,\n",
       "             enable_categorical=False, eval_metric=None, feature_types=None,\n",
       "             gamma=None, grow_policy=None, importance_type=None,\n",
       "             interaction_constraints=None, learning_rate=None, max_bin=None,\n",
       "             max_cat_threshold=None, max_cat_to_onehot=None,\n",
       "             max_delta_step=None, max_depth=None, max_leaves=None,\n",
       "             min_child_weight=None, missing=nan, monotone_constraints=None,\n",
       "             multi_strategy=None, n_estimators=None, n_jobs=-1,\n",
       "             num_parallel_tree=None, random_state=None, ...)</pre></div></div></div></div></div>"
      ],
      "text/plain": [
       "XGBRegressor(base_score=None, booster=None, callbacks=None,\n",
       "             colsample_bylevel=None, colsample_bynode=None,\n",
       "             colsample_bytree=None, device=None, early_stopping_rounds=None,\n",
       "             enable_categorical=False, eval_metric=None, feature_types=None,\n",
       "             gamma=None, grow_policy=None, importance_type=None,\n",
       "             interaction_constraints=None, learning_rate=None, max_bin=None,\n",
       "             max_cat_threshold=None, max_cat_to_onehot=None,\n",
       "             max_delta_step=None, max_depth=None, max_leaves=None,\n",
       "             min_child_weight=None, missing=nan, monotone_constraints=None,\n",
       "             multi_strategy=None, n_estimators=None, n_jobs=-1,\n",
       "             num_parallel_tree=None, random_state=None, ...)"
      ]
     },
     "execution_count": 88,
     "metadata": {},
     "output_type": "execute_result"
    }
   ],
   "source": [
    "regressor_xgb = XGBRegressor(n_jobs=-1)#object creating with default value\n",
    "regressor_xgb.fit(X_train,y_train)#fiting the data"
   ]
  },
  {
   "cell_type": "markdown",
   "id": "d6355564-0761-44b1-b8d3-cbb90022517f",
   "metadata": {},
   "source": [
    "#### Predict"
   ]
  },
  {
   "cell_type": "code",
   "execution_count": 89,
   "id": "9957fe86-6452-4a09-a135-0b7ed55ebd6f",
   "metadata": {},
   "outputs": [],
   "source": [
    "y_pred_xgb = regressor_xgb.predict(X_test)#predicting y value"
   ]
  },
  {
   "cell_type": "markdown",
   "id": "a5a590a4-a0f1-4af6-bea2-9f968fb6225d",
   "metadata": {},
   "source": [
    "#### Evaluate"
   ]
  },
  {
   "cell_type": "code",
   "execution_count": 91,
   "id": "28a8ff50-4d99-4033-b3fc-2a8cfef1c5e5",
   "metadata": {},
   "outputs": [
    {
     "name": "stdout",
     "output_type": "stream",
     "text": [
      "RMSE score : 702.6411441898865\n",
      "Variance score  : 0.85\n"
     ]
    }
   ],
   "source": [
    "print('RMSE score : {}'.format(np.sqrt(metrics.mean_squared_error(y_test,y_pred_xgb))))\n",
    "print('Variance score  : %.2f' % regressor_xgb.score(X_test, y_test))"
   ]
  },
  {
   "cell_type": "markdown",
   "id": "5879d244-1d0d-4f34-8506-570946946e7f",
   "metadata": {},
   "source": [
    "#### Observation"
   ]
  },
  {
   "cell_type": "markdown",
   "id": "0ec66d80-dcdd-4f77-9706-11af53ec022b",
   "metadata": {},
   "source": [
    "- Variance is near 1 that is acceptable\n",
    "- But high RMSE score shows poor performance\n",
    "- Better than linear model\n"
   ]
  },
  {
   "cell_type": "markdown",
   "id": "086f9745-af60-4db1-bf1d-bb473fa3a650",
   "metadata": {
    "jp-MarkdownHeadingCollapsed": true
   },
   "source": [
    "# comparison of model"
   ]
  },
  {
   "cell_type": "code",
   "execution_count": 96,
   "id": "9061bf7a-484c-451b-8d28-bd68ea257d77",
   "metadata": {},
   "outputs": [
    {
     "name": "stdout",
     "output_type": "stream",
     "text": [
      "Total sum of difference between actual and predicted by Random forest regressor is : 266\n",
      "Total sum of difference between actual and predicted by XGB regressor is : 1626298\n"
     ]
    }
   ],
   "source": [
    "#Comparing test results for the XGBoost and random forest\n",
    "print(\"Total sum of difference between actual and predicted by Random forest regressor is : %d\"%np.abs(np.sum(np.subtract(y_test,y_pred_random))))\n",
    "print(\"Total sum of difference between actual and predicted by XGB regressor is : %d\"%np.abs(np.sum(np.subtract(y_test,y_pred_xgb))))"
   ]
  },
  {
   "cell_type": "markdown",
   "id": "b656be22-9e01-4fa9-a71d-d1bf2f39490e",
   "metadata": {},
   "source": [
    "# Result "
   ]
  },
  {
   "cell_type": "markdown",
   "id": "06e9a2a1-ec40-47ac-bab1-24da09a1995d",
   "metadata": {},
   "source": [
    "- Based on the camparison Random forest have lesser defference between test and predicted\n",
    "- **Random forest shows better performace than other models**"
   ]
  },
  {
   "cell_type": "code",
   "execution_count": null,
   "id": "01199f19-3ad4-4ece-8964-81be842517a9",
   "metadata": {},
   "outputs": [],
   "source": []
  },
  {
   "cell_type": "code",
   "execution_count": null,
   "id": "04940d31-8ad3-4fe0-a754-aefb05d15e10",
   "metadata": {},
   "outputs": [],
   "source": []
  }
 ],
 "metadata": {
  "kernelspec": {
   "display_name": "Python 3 (ipykernel)",
   "language": "python",
   "name": "python3"
  },
  "language_info": {
   "codemirror_mode": {
    "name": "ipython",
    "version": 3
   },
   "file_extension": ".py",
   "mimetype": "text/x-python",
   "name": "python",
   "nbconvert_exporter": "python",
   "pygments_lexer": "ipython3",
   "version": "3.11.6"
  }
 },
 "nbformat": 4,
 "nbformat_minor": 5
}
